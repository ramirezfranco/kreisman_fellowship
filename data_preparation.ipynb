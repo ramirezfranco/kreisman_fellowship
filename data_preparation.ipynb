{
 "cells": [
  {
   "cell_type": "code",
   "execution_count": 2,
   "metadata": {},
   "outputs": [],
   "source": [
    "import pandas as pd\n",
    "import json\n",
    "from sodapy import Socrata\n",
    "import geopandas as gpd\n",
    "import util\n",
    "from shapely.geometry import Point\n",
    "#import googlemaps\n",
    "import creds\n",
    "%reload_ext autoreload\n",
    "%autoreload 2"
   ]
  },
  {
   "cell_type": "code",
   "execution_count": 3,
   "metadata": {},
   "outputs": [],
   "source": [
    "homicides = util.variable_by_tract('homicides')\n",
    "buss_licences = util.variable_by_tract('buss_licences')\n",
    "building_violations = util.variable_by_tract('building_violations')\n",
    "vehicle_theft = util.variable_by_tract('vehicle_theft')\n",
    "burglary = util.variable_by_tract('burglary')\n",
    "robbery = util.variable_by_tract('robbery')\n",
    "public_peace_violation = util.variable_by_tract('public_peace_violation')\n",
    "weapons_violation = util.variable_by_tract('weapons_violation')\n",
    "sexual_assault = util.variable_by_tract('sexual_assault')\n",
    "public_peace_violation = util.variable_by_tract('public_peace_violation')\n",
    "rodents = util.variable_by_tract('rodents')\n",
    "garbage = util.variable_by_tract('garbage')\n",
    "sanitation = util.variable_by_tract('sanitation')\n",
    "abandon_vehicles = util.variable_by_tract('abandon_vehicles')\n",
    "pot_holes = util.variable_by_tract('pot_holes')\n",
    "tree_trims = util.variable_by_tract('tree_trims')\n",
    "street_lights = util.variable_by_tract('street_lights')"
   ]
  },
  {
   "cell_type": "code",
   "execution_count": null,
   "metadata": {},
   "outputs": [],
   "source": [
    "# 'buss_licences',\n",
    "# 'building_violations',\n",
    "# 'vehicle_theft',\n",
    "# 'burglary',\n",
    "# 'robbery',\n",
    "# 'public_peace_violation',\n",
    "# 'weapons_violation',\n",
    "# 'sexual_assault',\n",
    "# 'homicides',\n",
    "# 'rodents',\n",
    "# 'garbage',\n",
    "# 'sanitation',\n",
    "# 'abandon_vehicles',\n",
    "# 'pot_holes',\n",
    "# 'tree_trims',\n",
    "# 'street_lights'"
   ]
  },
  {
   "cell_type": "code",
   "execution_count": 6,
   "metadata": {},
   "outputs": [],
   "source": [
    "df_list = [\n",
    "    buss_licences,\n",
    "    building_violations,\n",
    "    vehicle_theft,\n",
    "    burglary,\n",
    "    robbery,\n",
    "    public_peace_violation,\n",
    "    weapons_violation,\n",
    "    sexual_assault,\n",
    "    homicides,\n",
    "    rodents,\n",
    "    garbage,\n",
    "    sanitation,\n",
    "    abandon_vehicles,\n",
    "    pot_holes,\n",
    "    tree_trims,\n",
    "    street_lights\n",
    "]"
   ]
  },
  {
   "cell_type": "code",
   "execution_count": 5,
   "metadata": {},
   "outputs": [],
   "source": [
    "tree_trims['year']=tree_trims['year'].astype(int)"
   ]
  },
  {
   "cell_type": "code",
   "execution_count": 7,
   "metadata": {},
   "outputs": [],
   "source": [
    "complete = util.merge_several_df(df_list)"
   ]
  },
  {
   "cell_type": "code",
   "execution_count": 8,
   "metadata": {},
   "outputs": [],
   "source": [
    "complete = complete.fillna(0)"
   ]
  },
  {
   "cell_type": "code",
   "execution_count": 9,
   "metadata": {},
   "outputs": [],
   "source": [
    "complete.to_csv('clean_data/raw_complete_dataportal.csv', index=False)"
   ]
  },
  {
   "cell_type": "code",
   "execution_count": 10,
   "metadata": {},
   "outputs": [],
   "source": [
    "acs_2012 = pd.read_csv('clean_data/acs_2012.csv')\n",
    "acs_2013 = pd.read_csv('clean_data/acs_2013.csv')\n",
    "acs_2014 = pd.read_csv('clean_data/acs_2014.csv')\n",
    "acs_2015 = pd.read_csv('clean_data/acs_2015.csv')\n",
    "acs_2016 = pd.read_csv('clean_data/acs_2016.csv')\n",
    "acs_2017 = pd.read_csv('clean_data/acs_2017.csv')"
   ]
  },
  {
   "cell_type": "code",
   "execution_count": 66,
   "metadata": {},
   "outputs": [
    {
     "name": "stderr",
     "output_type": "stream",
     "text": [
      "C:\\Users\\jesus\\Anaconda3\\envs\\spatial\\lib\\site-packages\\ipykernel_launcher.py:2: SettingWithCopyWarning: \n",
      "A value is trying to be set on a copy of a slice from a DataFrame.\n",
      "Try using .loc[row_indexer,col_indexer] = value instead\n",
      "\n",
      "See the caveats in the documentation: http://pandas.pydata.org/pandas-docs/stable/user_guide/indexing.html#returning-a-view-versus-a-copy\n",
      "  \n"
     ]
    }
   ],
   "source": [
    "comp_2012 = complete[complete['year']==2012]\n",
    "comp_2012['tract'] = comp_2012['tract'].astype(int)\n",
    "comp_2012 = comp_2012.merge(acs_2012, how='left', on='tract')\n",
    "comp_2012.drop(['year','NAME', 'state', 'county', 'S1401_C01_029E', 'S1401_C01_030E', 'S1501_C02_014E', 'S1501_C02_015E'], axis=1, inplace=True)\n",
    "cols = list(comp_2012.columns)\n",
    "info = [[int(r['tract']), r['buss_licences']/(r['S0101_C01_001E']/1000), r['building_violations']/(r['S0101_C01_001E']/1000),\n",
    "       r['vehicle_theft']/(r['S0101_C01_001E']/1000), r['burglary']/(r['S0101_C01_001E']/1000),\n",
    "         r['robbery']/(r['S0101_C01_001E']/1000), r['public_peace_violation']/(r['S0101_C01_001E']/1000),\n",
    "       r['weapons_violation']/(r['S0101_C01_001E']/1000), r['sexual_assault']/(r['S0101_C01_001E']/1000), \n",
    "         r['homicides'], r['rodents']/(r['S0101_C01_001E']/1000),r['garbage']/(r['S0101_C01_001E']/1000), \n",
    "         r['sanitation']/(r['S0101_C01_001E']/1000), r['abandon_vehicles']/(r['S0101_C01_001E']/1000), \n",
    "         r['pot_holes']/(r['S0101_C01_001E']/1000), r['tree_trims']/(r['S0101_C01_001E']/1000),\n",
    "       r['street_lights']/(r['S0101_C01_001E']/1000), r['S0101_C01_001E'], r['S1101_C01_002E'], \n",
    "         r['S1401_C02_001E'], r['S1401_C02_030E'], r['S1501_C02_002E'], \n",
    "         r['S1501_C02_008E'], r['S1601_C02_003E'], r['S1701_C03_001E'],\n",
    "       r['S1810_C03_001E'], r['S1901_C01_012E'], r['S2201_C02_001E'], r['S2301_C03_001E'],\n",
    "       r['S2701_C03_001E']] for i, r in comp_2012.iterrows() if r['S0101_C01_001E']>0]\n",
    "comp_2012 = pd.DataFrame(info, columns=cols)\n",
    "comp_2012.to_csv('clean_data/complete_2012.csv', index=False)"
   ]
  },
  {
   "cell_type": "code",
   "execution_count": 67,
   "metadata": {},
   "outputs": [
    {
     "name": "stderr",
     "output_type": "stream",
     "text": [
      "C:\\Users\\jesus\\Anaconda3\\envs\\spatial\\lib\\site-packages\\ipykernel_launcher.py:2: SettingWithCopyWarning: \n",
      "A value is trying to be set on a copy of a slice from a DataFrame.\n",
      "Try using .loc[row_indexer,col_indexer] = value instead\n",
      "\n",
      "See the caveats in the documentation: http://pandas.pydata.org/pandas-docs/stable/user_guide/indexing.html#returning-a-view-versus-a-copy\n",
      "  \n"
     ]
    }
   ],
   "source": [
    "comp_2013 = complete[complete['year']==2013]\n",
    "comp_2013['tract'] = comp_2013['tract'].astype(int)\n",
    "comp_2013 = comp_2013.merge(acs_2013, how='left', on='tract')\n",
    "comp_2013.drop(['year','NAME', 'state', 'county', 'S1401_C01_029E', 'S1401_C01_030E', 'S1501_C02_014E', 'S1501_C02_015E'], axis=1, inplace=True)\n",
    "cols = list(comp_2013.columns)\n",
    "info = [[int(r['tract']), r['buss_licences']/(r['S0101_C01_001E']/1000), r['building_violations']/(r['S0101_C01_001E']/1000),\n",
    "       r['vehicle_theft']/(r['S0101_C01_001E']/1000), r['burglary']/(r['S0101_C01_001E']/1000),\n",
    "         r['robbery']/(r['S0101_C01_001E']/1000), r['public_peace_violation']/(r['S0101_C01_001E']/1000),\n",
    "       r['weapons_violation']/(r['S0101_C01_001E']/1000), r['sexual_assault']/(r['S0101_C01_001E']/1000), \n",
    "         r['homicides'], r['rodents']/(r['S0101_C01_001E']/1000),r['garbage']/(r['S0101_C01_001E']/1000), \n",
    "         r['sanitation']/(r['S0101_C01_001E']/1000), r['abandon_vehicles']/(r['S0101_C01_001E']/1000), \n",
    "         r['pot_holes']/(r['S0101_C01_001E']/1000), r['tree_trims']/(r['S0101_C01_001E']/1000),\n",
    "       r['street_lights']/(r['S0101_C01_001E']/1000), r['S0101_C01_001E'], r['S1101_C01_002E'], \n",
    "         r['S1401_C02_001E'], r['S1401_C02_030E'], r['S1501_C02_002E'], \n",
    "         r['S1501_C02_008E'], r['S1601_C02_003E'], r['S1701_C03_001E'],\n",
    "       r['S1810_C03_001E'], r['S1901_C01_012E'], r['S2201_C02_001E'], r['S2301_C03_001E'],\n",
    "       r['S2701_C03_001E']] for i, r in comp_2013.iterrows() if r['S0101_C01_001E']>0]\n",
    "comp_2013 = pd.DataFrame(info, columns=cols)\n",
    "comp_2013.to_csv('clean_data/complete_2013.csv', index=False)"
   ]
  },
  {
   "cell_type": "code",
   "execution_count": 68,
   "metadata": {},
   "outputs": [
    {
     "name": "stderr",
     "output_type": "stream",
     "text": [
      "C:\\Users\\jesus\\Anaconda3\\envs\\spatial\\lib\\site-packages\\ipykernel_launcher.py:2: SettingWithCopyWarning: \n",
      "A value is trying to be set on a copy of a slice from a DataFrame.\n",
      "Try using .loc[row_indexer,col_indexer] = value instead\n",
      "\n",
      "See the caveats in the documentation: http://pandas.pydata.org/pandas-docs/stable/user_guide/indexing.html#returning-a-view-versus-a-copy\n",
      "  \n"
     ]
    }
   ],
   "source": [
    "comp_2014 = complete[complete['year']==2014]\n",
    "comp_2014['tract'] = comp_2014['tract'].astype(int)\n",
    "comp_2014 = comp_2014.merge(acs_2014, how='left', on='tract')\n",
    "comp_2014.drop(['year','NAME', 'state', 'county', 'S1401_C01_029E', 'S1401_C01_030E', 'S1501_C02_014E', 'S1501_C02_015E'], axis=1, inplace=True)\n",
    "cols = list(comp_2014.columns)\n",
    "info = [[int(r['tract']), r['buss_licences']/(r['S0101_C01_001E']/1000), r['building_violations']/(r['S0101_C01_001E']/1000),\n",
    "       r['vehicle_theft']/(r['S0101_C01_001E']/1000), r['burglary']/(r['S0101_C01_001E']/1000),\n",
    "         r['robbery']/(r['S0101_C01_001E']/1000), r['public_peace_violation']/(r['S0101_C01_001E']/1000),\n",
    "       r['weapons_violation']/(r['S0101_C01_001E']/1000), r['sexual_assault']/(r['S0101_C01_001E']/1000), \n",
    "         r['homicides'], r['rodents']/(r['S0101_C01_001E']/1000),r['garbage']/(r['S0101_C01_001E']/1000), \n",
    "         r['sanitation']/(r['S0101_C01_001E']/1000), r['abandon_vehicles']/(r['S0101_C01_001E']/1000), \n",
    "         r['pot_holes']/(r['S0101_C01_001E']/1000), r['tree_trims']/(r['S0101_C01_001E']/1000),\n",
    "       r['street_lights']/(r['S0101_C01_001E']/1000), r['S0101_C01_001E'], r['S1101_C01_002E'], \n",
    "         r['S1401_C02_001E'], r['S1401_C02_030E'], r['S1501_C02_002E'], \n",
    "         r['S1501_C02_008E'], r['S1601_C02_003E'], r['S1701_C03_001E'],\n",
    "       r['S1810_C03_001E'], r['S1901_C01_012E'], r['S2201_C02_001E'], r['S2301_C03_001E'],\n",
    "       r['S2701_C03_001E']] for i, r in comp_2014.iterrows() if r['S0101_C01_001E']>0]\n",
    "comp_2014 = pd.DataFrame(info, columns=cols)\n",
    "comp_2014.to_csv('clean_data/complete_2014.csv', index=False)"
   ]
  },
  {
   "cell_type": "code",
   "execution_count": 69,
   "metadata": {},
   "outputs": [
    {
     "name": "stderr",
     "output_type": "stream",
     "text": [
      "C:\\Users\\jesus\\Anaconda3\\envs\\spatial\\lib\\site-packages\\ipykernel_launcher.py:2: SettingWithCopyWarning: \n",
      "A value is trying to be set on a copy of a slice from a DataFrame.\n",
      "Try using .loc[row_indexer,col_indexer] = value instead\n",
      "\n",
      "See the caveats in the documentation: http://pandas.pydata.org/pandas-docs/stable/user_guide/indexing.html#returning-a-view-versus-a-copy\n",
      "  \n"
     ]
    }
   ],
   "source": [
    "comp_2015 = complete[complete['year']==2015]\n",
    "comp_2015['tract'] = comp_2015['tract'].astype(int)\n",
    "comp_2015 = comp_2015.merge(acs_2015, how='left', on='tract')\n",
    "comp_2015.drop(['year','NAME', 'state', 'county', 'S1401_C01_029E', 'S1401_C01_030E', 'S1501_C02_014E', 'S1501_C02_015E'], axis=1, inplace=True)\n",
    "cols = list(comp_2015.columns)\n",
    "info = [[int(r['tract']), r['buss_licences']/(r['S0101_C01_001E']/1000), r['building_violations']/(r['S0101_C01_001E']/1000),\n",
    "       r['vehicle_theft']/(r['S0101_C01_001E']/1000), r['burglary']/(r['S0101_C01_001E']/1000),\n",
    "         r['robbery']/(r['S0101_C01_001E']/1000), r['public_peace_violation']/(r['S0101_C01_001E']/1000),\n",
    "       r['weapons_violation']/(r['S0101_C01_001E']/1000), r['sexual_assault']/(r['S0101_C01_001E']/1000), \n",
    "         r['homicides'], r['rodents']/(r['S0101_C01_001E']/1000),r['garbage']/(r['S0101_C01_001E']/1000), \n",
    "         r['sanitation']/(r['S0101_C01_001E']/1000), r['abandon_vehicles']/(r['S0101_C01_001E']/1000), \n",
    "         r['pot_holes']/(r['S0101_C01_001E']/1000), r['tree_trims']/(r['S0101_C01_001E']/1000),\n",
    "       r['street_lights']/(r['S0101_C01_001E']/1000), r['S0101_C01_001E'], r['S1101_C01_002E'], \n",
    "         r['S1401_C02_001E'], r['S1401_C02_030E'], r['S1501_C02_002E'], \n",
    "         r['S1501_C02_008E'], r['S1601_C02_003E'], r['S1701_C03_001E'],\n",
    "       r['S1810_C03_001E'], r['S1901_C01_012E'], r['S2201_C02_001E'], r['S2301_C03_001E'],\n",
    "       r['S2701_C03_001E']] for i, r in comp_2015.iterrows() if r['S0101_C01_001E']>0]\n",
    "comp_2015 = pd.DataFrame(info, columns=cols)\n",
    "comp_2015.to_csv('clean_data/complete_2015.csv', index=False)"
   ]
  },
  {
   "cell_type": "code",
   "execution_count": 70,
   "metadata": {},
   "outputs": [
    {
     "name": "stderr",
     "output_type": "stream",
     "text": [
      "C:\\Users\\jesus\\Anaconda3\\envs\\spatial\\lib\\site-packages\\ipykernel_launcher.py:2: SettingWithCopyWarning: \n",
      "A value is trying to be set on a copy of a slice from a DataFrame.\n",
      "Try using .loc[row_indexer,col_indexer] = value instead\n",
      "\n",
      "See the caveats in the documentation: http://pandas.pydata.org/pandas-docs/stable/user_guide/indexing.html#returning-a-view-versus-a-copy\n",
      "  \n"
     ]
    }
   ],
   "source": [
    "comp_2016 = complete[complete['year']==2016]\n",
    "comp_2016['tract'] = comp_2016['tract'].astype(int)\n",
    "comp_2016 = comp_2016.merge(acs_2016, how='left', on='tract')\n",
    "comp_2016.drop(['year','NAME', 'state', 'county', 'S1401_C01_029E', 'S1401_C01_030E', 'S1501_C02_014E', 'S1501_C02_015E'], axis=1, inplace=True)\n",
    "cols = list(comp_2016.columns)\n",
    "info = [[int(r['tract']), r['buss_licences']/(r['S0101_C01_001E']/1000), r['building_violations']/(r['S0101_C01_001E']/1000),\n",
    "       r['vehicle_theft']/(r['S0101_C01_001E']/1000), r['burglary']/(r['S0101_C01_001E']/1000),\n",
    "         r['robbery']/(r['S0101_C01_001E']/1000), r['public_peace_violation']/(r['S0101_C01_001E']/1000),\n",
    "       r['weapons_violation']/(r['S0101_C01_001E']/1000), r['sexual_assault']/(r['S0101_C01_001E']/1000), \n",
    "         r['homicides'], r['rodents']/(r['S0101_C01_001E']/1000),r['garbage']/(r['S0101_C01_001E']/1000), \n",
    "         r['sanitation']/(r['S0101_C01_001E']/1000), r['abandon_vehicles']/(r['S0101_C01_001E']/1000), \n",
    "         r['pot_holes']/(r['S0101_C01_001E']/1000), r['tree_trims']/(r['S0101_C01_001E']/1000),\n",
    "       r['street_lights']/(r['S0101_C01_001E']/1000), r['S0101_C01_001E'], r['S1101_C01_002E'], \n",
    "         r['S1401_C02_001E'], r['S1401_C02_030E'], r['S1501_C02_002E'], \n",
    "         r['S1501_C02_008E'], r['S1601_C02_003E'], r['S1701_C03_001E'],\n",
    "       r['S1810_C03_001E'], r['S1901_C01_012E'], r['S2201_C02_001E'], r['S2301_C03_001E'],\n",
    "       r['S2701_C03_001E']] for i, r in comp_2016.iterrows() if r['S0101_C01_001E']>0]\n",
    "comp_2016 = pd.DataFrame(info, columns=cols)\n",
    "comp_2016.to_csv('clean_data/complete_2016.csv', index=False)"
   ]
  },
  {
   "cell_type": "code",
   "execution_count": 71,
   "metadata": {},
   "outputs": [
    {
     "name": "stderr",
     "output_type": "stream",
     "text": [
      "C:\\Users\\jesus\\Anaconda3\\envs\\spatial\\lib\\site-packages\\ipykernel_launcher.py:2: SettingWithCopyWarning: \n",
      "A value is trying to be set on a copy of a slice from a DataFrame.\n",
      "Try using .loc[row_indexer,col_indexer] = value instead\n",
      "\n",
      "See the caveats in the documentation: http://pandas.pydata.org/pandas-docs/stable/user_guide/indexing.html#returning-a-view-versus-a-copy\n",
      "  \n"
     ]
    }
   ],
   "source": [
    "comp_2017 = complete[complete['year']==2017]\n",
    "comp_2017['tract'] = comp_2017['tract'].astype(int)\n",
    "comp_2017 = comp_2017.merge(acs_2017, how='left', on='tract')\n",
    "comp_2017.drop(['year','NAME', 'state', 'county', 'S1401_C01_029E', 'S1401_C01_030E', 'S1501_C02_014E', 'S1501_C02_015E'], axis=1, inplace=True)\n",
    "cols = list(comp_2017.columns)\n",
    "info = [[int(r['tract']), r['buss_licences']/(r['S0101_C01_001E']/1000), r['building_violations']/(r['S0101_C01_001E']/1000),\n",
    "       r['vehicle_theft']/(r['S0101_C01_001E']/1000), r['burglary']/(r['S0101_C01_001E']/1000),\n",
    "         r['robbery']/(r['S0101_C01_001E']/1000), r['public_peace_violation']/(r['S0101_C01_001E']/1000),\n",
    "       r['weapons_violation']/(r['S0101_C01_001E']/1000), r['sexual_assault']/(r['S0101_C01_001E']/1000), \n",
    "         r['homicides'], r['rodents']/(r['S0101_C01_001E']/1000),r['garbage']/(r['S0101_C01_001E']/1000), \n",
    "         r['sanitation']/(r['S0101_C01_001E']/1000), r['abandon_vehicles']/(r['S0101_C01_001E']/1000), \n",
    "         r['pot_holes']/(r['S0101_C01_001E']/1000), r['tree_trims']/(r['S0101_C01_001E']/1000),\n",
    "       r['street_lights']/(r['S0101_C01_001E']/1000), r['S0101_C01_001E'], r['S1101_C01_002E'], \n",
    "         r['S1401_C02_001E'], r['S1401_C02_030E'], r['S1501_C02_002E'], \n",
    "         r['S1501_C02_008E'], r['S1601_C02_003E'], r['S1701_C03_001E'],\n",
    "       r['S1810_C03_001E'], r['S1901_C01_012E'], r['S2201_C02_001E'], r['S2301_C03_001E'],\n",
    "       r['S2701_C03_001E']] for i, r in comp_2017.iterrows() if r['S0101_C01_001E']>0]\n",
    "comp_2017 = pd.DataFrame(info, columns=cols)\n",
    "comp_2017.to_csv('clean_data/complete_2017.csv', index=False)"
   ]
  },
  {
   "cell_type": "markdown",
   "metadata": {},
   "source": [
    "# Dependent variable preparation"
   ]
  },
  {
   "cell_type": "code",
   "execution_count": 72,
   "metadata": {},
   "outputs": [],
   "source": [
    "dependent_tracts = gpd.read_file('clean_data\\geo_abandon_tracts.shp')\n",
    "dependent_tracts = dependent_tracts[['service_re', 'tract_x']]\n",
    "dependent_tracts.columns = ['id', 'tract']"
   ]
  },
  {
   "cell_type": "code",
   "execution_count": 73,
   "metadata": {},
   "outputs": [],
   "source": [
    "dependent = gpd.read_file('clean_data\\geo_abandon.shp')\n",
    "dependent = dependent[['service_re', 'year']]\n",
    "dependent.columns = ['id', 'year']"
   ]
  },
  {
   "cell_type": "code",
   "execution_count": 74,
   "metadata": {},
   "outputs": [],
   "source": [
    "dependent = dependent.merge(dependent_tracts, how='outer', on='id')"
   ]
  },
  {
   "cell_type": "code",
   "execution_count": 75,
   "metadata": {},
   "outputs": [],
   "source": [
    "dependent['year']=dependent['year'].astype(int)"
   ]
  },
  {
   "cell_type": "code",
   "execution_count": 76,
   "metadata": {},
   "outputs": [],
   "source": [
    "dependent = dependent[dependent['year']>2013].dropna(how='any', axis=0)\n",
    "dependent['tract']=dependent['tract'].astype(int)"
   ]
  },
  {
   "cell_type": "code",
   "execution_count": 77,
   "metadata": {},
   "outputs": [],
   "source": [
    "dependent = dependent.groupby(by=['year', 'tract']).count().reset_index()\n",
    "dependent.columns = ['year', 'tract', 'count']"
   ]
  },
  {
   "cell_type": "code",
   "execution_count": 78,
   "metadata": {},
   "outputs": [],
   "source": [
    "dependent_2014 = dependent[dependent['year']==2014].drop('year', axis=1)\n",
    "dependent_2015 = dependent[dependent['year']==2015].drop('year', axis=1)\n",
    "dependent_2016 = dependent[dependent['year']==2016].drop('year', axis=1)\n",
    "dependent_2017 = dependent[dependent['year']==2017].drop('year', axis=1)"
   ]
  },
  {
   "cell_type": "code",
   "execution_count": 79,
   "metadata": {},
   "outputs": [],
   "source": [
    "dependent_2014 = dependent_2014.merge(comp_2014[['tract','S0101_C01_001E']], how='right', on='tract').fillna(0)\n",
    "dependent_2014['count_ph'] = dependent_2014['count']/(comp_2014['S0101_C01_001E']/1000)\n",
    "dependent_2014.drop(['count','S0101_C01_001E'], axis=1, inplace=True)"
   ]
  },
  {
   "cell_type": "code",
   "execution_count": 80,
   "metadata": {},
   "outputs": [],
   "source": [
    "dependent_2015 = dependent_2015.merge(comp_2015[['tract','S0101_C01_001E']], how='right', on='tract').fillna(0)\n",
    "dependent_2015['count_ph'] = dependent_2015['count']/(comp_2015['S0101_C01_001E']/1000)\n",
    "dependent_2015.drop(['count','S0101_C01_001E'], axis=1, inplace=True)"
   ]
  },
  {
   "cell_type": "code",
   "execution_count": 81,
   "metadata": {},
   "outputs": [],
   "source": [
    "dependent_2016 = dependent_2016.merge(comp_2016[['tract','S0101_C01_001E']], how='right', on='tract').fillna(0)\n",
    "dependent_2016['count_ph'] = dependent_2016['count']/(comp_2016['S0101_C01_001E']/1000)\n",
    "dependent_2016.drop(['count','S0101_C01_001E'], axis=1, inplace=True)"
   ]
  },
  {
   "cell_type": "code",
   "execution_count": 82,
   "metadata": {},
   "outputs": [],
   "source": [
    "dependent_2017 = dependent_2017.merge(comp_2017[['tract','S0101_C01_001E']], how='right', on='tract').fillna(0)\n",
    "dependent_2017['count_ph'] = dependent_2017['count']/(comp_2017['S0101_C01_001E']/1000)\n",
    "dependent_2017.drop(['count','S0101_C01_001E'], axis=1, inplace=True)"
   ]
  },
  {
   "cell_type": "code",
   "execution_count": 83,
   "metadata": {},
   "outputs": [],
   "source": [
    "dependent_2014.to_csv('clean_data\\dependent_2014.csv', index=False)\n",
    "dependent_2015.to_csv('clean_data\\dependent_2015.csv', index=False)\n",
    "dependent_2016.to_csv('clean_data\\dependent_2016.csv', index=False)\n",
    "dependent_2017.to_csv('clean_data\\dependent_2017.csv', index=False)"
   ]
  },
  {
   "cell_type": "code",
   "execution_count": 31,
   "metadata": {},
   "outputs": [
    {
     "data": {
      "text/plain": [
       "<matplotlib.axes._subplots.AxesSubplot at 0x1dba8dcd788>"
      ]
     },
     "execution_count": 31,
     "metadata": {},
     "output_type": "execute_result"
    }
   ],
   "source": [
    "dependent_2014['count_ph'].plot.hist(bins=10)"
   ]
  },
  {
   "cell_type": "code",
   "execution_count": 32,
   "metadata": {},
   "outputs": [
    {
     "data": {
      "text/plain": [
       "<matplotlib.axes._subplots.AxesSubplot at 0x1dba1e9fbc8>"
      ]
     },
     "execution_count": 32,
     "metadata": {},
     "output_type": "execute_result"
    },
    {
     "data": {
      "image/png": "[encoded data removed]",
      "text/plain": [
       "<Figure size 432x288 with 1 Axes>"
      ]
     },
     "metadata": {
      "needs_background": "light"
     },
     "output_type": "display_data"
    }
   ],
   "source": [
    "dependent_2015['count_ph'].plot.hist(bins=10)"
   ]
  },
  {
   "cell_type": "code",
   "execution_count": 33,
   "metadata": {},
   "outputs": [
    {
     "data": {
      "text/plain": [
       "<matplotlib.axes._subplots.AxesSubplot at 0x1dba3141c48>"
      ]
     },
     "execution_count": 33,
     "metadata": {},
     "output_type": "execute_result"
    },
    {
     "data": {
      "image/png": "[encoded data removed]",
      "text/plain": [
       "<Figure size 432x288 with 1 Axes>"
      ]
     },
     "metadata": {
      "needs_background": "light"
     },
     "output_type": "display_data"
    }
   ],
   "source": [
    "dependent_2016['count_ph'].plot.hist(bins=10)"
   ]
  },
  {
   "cell_type": "code",
   "execution_count": 34,
   "metadata": {},
   "outputs": [
    {
     "data": {
      "text/plain": [
       "<matplotlib.axes._subplots.AxesSubplot at 0x1dba6bc7248>"
      ]
     },
     "execution_count": 34,
     "metadata": {},
     "output_type": "execute_result"
    },
    {
     "data": {
      "image/png": "[encoded data removed]",
      "text/plain": [
       "<Figure size 432x288 with 1 Axes>"
      ]
     },
     "metadata": {
      "needs_background": "light"
     },
     "output_type": "display_data"
    }
   ],
   "source": [
    "dependent_2017['count_ph'].plot.hist(bins=10)"
   ]
  },
  {
   "cell_type": "code",
   "execution_count": 35,
   "metadata": {},
   "outputs": [
    {
     "data": {
      "text/plain": [
       "count    798.000000\n",
       "mean       2.648492\n",
       "std        5.134559\n",
       "min        0.000000\n",
       "25%        0.000000\n",
       "50%        0.786009\n",
       "75%        2.889406\n",
       "max       42.765085\n",
       "Name: count_ph, dtype: float64"
      ]
     },
     "execution_count": 35,
     "metadata": {},
     "output_type": "execute_result"
    }
   ],
   "source": [
    "dependent_2014['count_ph'].describe()"
   ]
  },
  {
   "cell_type": "code",
   "execution_count": 36,
   "metadata": {},
   "outputs": [
    {
     "data": {
      "text/plain": [
       "count    798.000000\n",
       "mean       2.571652\n",
       "std        4.866395\n",
       "min        0.000000\n",
       "25%        0.000000\n",
       "50%        0.683825\n",
       "75%        2.676553\n",
       "max       40.268456\n",
       "Name: count_ph, dtype: float64"
      ]
     },
     "execution_count": 36,
     "metadata": {},
     "output_type": "execute_result"
    }
   ],
   "source": [
    "dependent_2015['count_ph'].describe()"
   ]
  },
  {
   "cell_type": "code",
   "execution_count": 37,
   "metadata": {},
   "outputs": [
    {
     "data": {
      "text/plain": [
       "count    798.000000\n",
       "mean       2.320816\n",
       "std        5.105526\n",
       "min        0.000000\n",
       "25%        0.000000\n",
       "50%        0.507055\n",
       "75%        2.050427\n",
       "max       59.210526\n",
       "Name: count_ph, dtype: float64"
      ]
     },
     "execution_count": 37,
     "metadata": {},
     "output_type": "execute_result"
    }
   ],
   "source": [
    "dependent_2016['count_ph'].describe()"
   ]
  },
  {
   "cell_type": "code",
   "execution_count": 38,
   "metadata": {},
   "outputs": [
    {
     "data": {
      "text/plain": [
       "count    798.000000\n",
       "mean       1.813124\n",
       "std        3.772477\n",
       "min        0.000000\n",
       "25%        0.000000\n",
       "50%        0.353170\n",
       "75%        1.643732\n",
       "max       28.830313\n",
       "Name: count_ph, dtype: float64"
      ]
     },
     "execution_count": 38,
     "metadata": {},
     "output_type": "execute_result"
    }
   ],
   "source": [
    "dependent_2017['count_ph'].describe()"
   ]
  },
  {
   "cell_type": "code",
   "execution_count": 39,
   "metadata": {},
   "outputs": [],
   "source": [
    "dependent_2014['risk'] = dependent_2014['count_ph'].apply(lambda x: 1 if x > 0.3 else 0)\n",
    "dependent_2015['risk'] = dependent_2015['count_ph'].apply(lambda x: 1 if x > 0.3 else 0)\n",
    "dependent_2016['risk'] = dependent_2016['count_ph'].apply(lambda x: 1 if x > 0.3 else 0)\n",
    "dependent_2017['risk'] = dependent_2017['count_ph'].apply(lambda x: 1 if x > 0.3 else 0)"
   ]
  },
  {
   "cell_type": "code",
   "execution_count": 40,
   "metadata": {},
   "outputs": [],
   "source": [
    "dependent_2014.drop('count_ph', axis=1, inplace=True)\n",
    "dependent_2015.drop('count_ph', axis=1, inplace=True)\n",
    "dependent_2016.drop('count_ph', axis=1, inplace=True)\n",
    "dependent_2017.drop('count_ph', axis=1, inplace=True)"
   ]
  },
  {
   "cell_type": "code",
   "execution_count": 41,
   "metadata": {},
   "outputs": [],
   "source": [
    "data_2014 = dependent_2014.merge(comp_2012, how='left', on='tract' )\n",
    "data_2015 = dependent_2015.merge(comp_2013, how='left', on='tract' )\n",
    "data_2016 = dependent_2016.merge(comp_2014, how='left', on='tract' )\n",
    "data_2017 = dependent_2017.merge(comp_2015, how='left', on='tract' )"
   ]
  },
  {
   "cell_type": "code",
   "execution_count": 42,
   "metadata": {},
   "outputs": [
    {
     "data": {
      "text/html": [
       "<div>\n",
       "<style scoped>\n",
       "    .dataframe tbody tr th:only-of-type {\n",
       "        vertical-align: middle;\n",
       "    }\n",
       "\n",
       "    .dataframe tbody tr th {\n",
       "        vertical-align: top;\n",
       "    }\n",
       "\n",
       "    .dataframe thead th {\n",
       "        text-align: right;\n",
       "    }\n",
       "</style>\n",
       "<table border=\"1\" class=\"dataframe\">\n",
       "  <thead>\n",
       "    <tr style=\"text-align: right;\">\n",
       "      <th></th>\n",
       "      <th>tract</th>\n",
       "      <th>risk</th>\n",
       "      <th>buss_licences</th>\n",
       "      <th>building_violations</th>\n",
       "      <th>vehicle_theft</th>\n",
       "      <th>burglary</th>\n",
       "      <th>robbery</th>\n",
       "      <th>public_peace_violation</th>\n",
       "      <th>weapons_violation</th>\n",
       "      <th>sexual_assault</th>\n",
       "      <th>...</th>\n",
       "      <th>S1401_C02_030E</th>\n",
       "      <th>S1501_C02_002E</th>\n",
       "      <th>S1501_C02_008E</th>\n",
       "      <th>S1601_C02_003E</th>\n",
       "      <th>S1701_C03_001E</th>\n",
       "      <th>S1810_C03_001E</th>\n",
       "      <th>S1901_C01_012E</th>\n",
       "      <th>S2201_C02_001E</th>\n",
       "      <th>S2301_C03_001E</th>\n",
       "      <th>S2701_C03_001E</th>\n",
       "    </tr>\n",
       "  </thead>\n",
       "  <tbody>\n",
       "    <tr>\n",
       "      <td>count</td>\n",
       "      <td>508.000000</td>\n",
       "      <td>508.0</td>\n",
       "      <td>508.000000</td>\n",
       "      <td>508.000000</td>\n",
       "      <td>508.000000</td>\n",
       "      <td>508.000000</td>\n",
       "      <td>508.000000</td>\n",
       "      <td>508.000000</td>\n",
       "      <td>508.000000</td>\n",
       "      <td>508.000000</td>\n",
       "      <td>...</td>\n",
       "      <td>508.0</td>\n",
       "      <td>508.000000</td>\n",
       "      <td>508.000000</td>\n",
       "      <td>5.080000e+02</td>\n",
       "      <td>508.000000</td>\n",
       "      <td>508.000000</td>\n",
       "      <td>508.000000</td>\n",
       "      <td>508.000000</td>\n",
       "      <td>508.000000</td>\n",
       "      <td>508.000000</td>\n",
       "    </tr>\n",
       "    <tr>\n",
       "      <td>mean</td>\n",
       "      <td>483976.580709</td>\n",
       "      <td>1.0</td>\n",
       "      <td>2.857874</td>\n",
       "      <td>24.513581</td>\n",
       "      <td>7.396401</td>\n",
       "      <td>11.031273</td>\n",
       "      <td>7.406311</td>\n",
       "      <td>1.632847</td>\n",
       "      <td>2.386563</td>\n",
       "      <td>0.678693</td>\n",
       "      <td>...</td>\n",
       "      <td>-888888888.0</td>\n",
       "      <td>25.682480</td>\n",
       "      <td>13.605118</td>\n",
       "      <td>-1.443564e+07</td>\n",
       "      <td>26.803150</td>\n",
       "      <td>12.362795</td>\n",
       "      <td>42211.299213</td>\n",
       "      <td>268.385827</td>\n",
       "      <td>51.595276</td>\n",
       "      <td>21.120276</td>\n",
       "    </tr>\n",
       "    <tr>\n",
       "      <td>std</td>\n",
       "      <td>247348.249821</td>\n",
       "      <td>0.0</td>\n",
       "      <td>5.182052</td>\n",
       "      <td>20.417760</td>\n",
       "      <td>4.176102</td>\n",
       "      <td>7.222649</td>\n",
       "      <td>6.549301</td>\n",
       "      <td>1.873238</td>\n",
       "      <td>2.518279</td>\n",
       "      <td>0.700031</td>\n",
       "      <td>...</td>\n",
       "      <td>0.0</td>\n",
       "      <td>20.402689</td>\n",
       "      <td>8.149225</td>\n",
       "      <td>9.712868e+07</td>\n",
       "      <td>14.223565</td>\n",
       "      <td>5.382188</td>\n",
       "      <td>20789.931801</td>\n",
       "      <td>182.975637</td>\n",
       "      <td>13.198659</td>\n",
       "      <td>9.035064</td>\n",
       "    </tr>\n",
       "    <tr>\n",
       "      <td>min</td>\n",
       "      <td>20200.000000</td>\n",
       "      <td>1.0</td>\n",
       "      <td>0.000000</td>\n",
       "      <td>0.000000</td>\n",
       "      <td>0.235239</td>\n",
       "      <td>0.667928</td>\n",
       "      <td>0.000000</td>\n",
       "      <td>0.000000</td>\n",
       "      <td>0.000000</td>\n",
       "      <td>0.000000</td>\n",
       "      <td>...</td>\n",
       "      <td>-888888888.0</td>\n",
       "      <td>0.000000</td>\n",
       "      <td>0.000000</td>\n",
       "      <td>-6.666667e+08</td>\n",
       "      <td>0.400000</td>\n",
       "      <td>1.000000</td>\n",
       "      <td>9550.000000</td>\n",
       "      <td>0.000000</td>\n",
       "      <td>5.500000</td>\n",
       "      <td>0.700000</td>\n",
       "    </tr>\n",
       "    <tr>\n",
       "      <td>25%</td>\n",
       "      <td>250950.000000</td>\n",
       "      <td>1.0</td>\n",
       "      <td>1.099506</td>\n",
       "      <td>10.324964</td>\n",
       "      <td>4.680499</td>\n",
       "      <td>5.722758</td>\n",
       "      <td>2.377279</td>\n",
       "      <td>0.439442</td>\n",
       "      <td>0.456575</td>\n",
       "      <td>0.159429</td>\n",
       "      <td>...</td>\n",
       "      <td>-888888888.0</td>\n",
       "      <td>8.475000</td>\n",
       "      <td>7.500000</td>\n",
       "      <td>4.657500e+01</td>\n",
       "      <td>15.500000</td>\n",
       "      <td>8.500000</td>\n",
       "      <td>27673.250000</td>\n",
       "      <td>135.750000</td>\n",
       "      <td>41.675000</td>\n",
       "      <td>15.200000</td>\n",
       "    </tr>\n",
       "    <tr>\n",
       "      <td>50%</td>\n",
       "      <td>490650.000000</td>\n",
       "      <td>1.0</td>\n",
       "      <td>1.902728</td>\n",
       "      <td>19.833380</td>\n",
       "      <td>6.619325</td>\n",
       "      <td>8.814556</td>\n",
       "      <td>5.752469</td>\n",
       "      <td>1.032266</td>\n",
       "      <td>1.612905</td>\n",
       "      <td>0.523287</td>\n",
       "      <td>...</td>\n",
       "      <td>-888888888.0</td>\n",
       "      <td>24.500000</td>\n",
       "      <td>13.100000</td>\n",
       "      <td>5.780000e+01</td>\n",
       "      <td>25.550000</td>\n",
       "      <td>11.700000</td>\n",
       "      <td>38147.500000</td>\n",
       "      <td>232.500000</td>\n",
       "      <td>51.450000</td>\n",
       "      <td>20.400000</td>\n",
       "    </tr>\n",
       "    <tr>\n",
       "      <td>75%</td>\n",
       "      <td>691325.000000</td>\n",
       "      <td>1.0</td>\n",
       "      <td>3.116236</td>\n",
       "      <td>32.392382</td>\n",
       "      <td>9.672468</td>\n",
       "      <td>14.935309</td>\n",
       "      <td>11.147354</td>\n",
       "      <td>2.134538</td>\n",
       "      <td>3.507034</td>\n",
       "      <td>0.970246</td>\n",
       "      <td>...</td>\n",
       "      <td>-888888888.0</td>\n",
       "      <td>40.050000</td>\n",
       "      <td>18.700000</td>\n",
       "      <td>7.712500e+01</td>\n",
       "      <td>36.600000</td>\n",
       "      <td>16.000000</td>\n",
       "      <td>50910.000000</td>\n",
       "      <td>360.000000</td>\n",
       "      <td>60.725000</td>\n",
       "      <td>27.125000</td>\n",
       "    </tr>\n",
       "    <tr>\n",
       "      <td>max</td>\n",
       "      <td>843900.000000</td>\n",
       "      <td>1.0</td>\n",
       "      <td>75.679172</td>\n",
       "      <td>135.211268</td>\n",
       "      <td>28.442146</td>\n",
       "      <td>45.286817</td>\n",
       "      <td>39.142591</td>\n",
       "      <td>13.888889</td>\n",
       "      <td>17.094017</td>\n",
       "      <td>4.527814</td>\n",
       "      <td>...</td>\n",
       "      <td>-888888888.0</td>\n",
       "      <td>100.000000</td>\n",
       "      <td>46.200000</td>\n",
       "      <td>1.000000e+02</td>\n",
       "      <td>66.900000</td>\n",
       "      <td>31.100000</td>\n",
       "      <td>155500.000000</td>\n",
       "      <td>1035.000000</td>\n",
       "      <td>86.800000</td>\n",
       "      <td>52.100000</td>\n",
       "    </tr>\n",
       "  </tbody>\n",
       "</table>\n",
       "<p>8 rows × 31 columns</p>\n",
       "</div>"
      ],
      "text/plain": [
       "               tract   risk  buss_licences  building_violations  \\\n",
       "count     508.000000  508.0     508.000000           508.000000   \n",
       "mean   483976.580709    1.0       2.857874            24.513581   \n",
       "std    247348.249821    0.0       5.182052            20.417760   \n",
       "min     20200.000000    1.0       0.000000             0.000000   \n",
       "25%    250950.000000    1.0       1.099506            10.324964   \n",
       "50%    490650.000000    1.0       1.902728            19.833380   \n",
       "75%    691325.000000    1.0       3.116236            32.392382   \n",
       "max    843900.000000    1.0      75.679172           135.211268   \n",
       "\n",
       "       vehicle_theft    burglary     robbery  public_peace_violation  \\\n",
       "count     508.000000  508.000000  508.000000              508.000000   \n",
       "mean        7.396401   11.031273    7.406311                1.632847   \n",
       "std         4.176102    7.222649    6.549301                1.873238   \n",
       "min         0.235239    0.667928    0.000000                0.000000   \n",
       "25%         4.680499    5.722758    2.377279                0.439442   \n",
       "50%         6.619325    8.814556    5.752469                1.032266   \n",
       "75%         9.672468   14.935309   11.147354                2.134538   \n",
       "max        28.442146   45.286817   39.142591               13.888889   \n",
       "\n",
       "       weapons_violation  sexual_assault  ...  S1401_C02_030E  S1501_C02_002E  \\\n",
       "count         508.000000      508.000000  ...           508.0      508.000000   \n",
       "mean            2.386563        0.678693  ...    -888888888.0       25.682480   \n",
       "std             2.518279        0.700031  ...             0.0       20.402689   \n",
       "min             0.000000        0.000000  ...    -888888888.0        0.000000   \n",
       "25%             0.456575        0.159429  ...    -888888888.0        8.475000   \n",
       "50%             1.612905        0.523287  ...    -888888888.0       24.500000   \n",
       "75%             3.507034        0.970246  ...    -888888888.0       40.050000   \n",
       "max            17.094017        4.527814  ...    -888888888.0      100.000000   \n",
       "\n",
       "       S1501_C02_008E  S1601_C02_003E  S1701_C03_001E  S1810_C03_001E  \\\n",
       "count      508.000000    5.080000e+02      508.000000      508.000000   \n",
       "mean        13.605118   -1.443564e+07       26.803150       12.362795   \n",
       "std          8.149225    9.712868e+07       14.223565        5.382188   \n",
       "min          0.000000   -6.666667e+08        0.400000        1.000000   \n",
       "25%          7.500000    4.657500e+01       15.500000        8.500000   \n",
       "50%         13.100000    5.780000e+01       25.550000       11.700000   \n",
       "75%         18.700000    7.712500e+01       36.600000       16.000000   \n",
       "max         46.200000    1.000000e+02       66.900000       31.100000   \n",
       "\n",
       "       S1901_C01_012E  S2201_C02_001E  S2301_C03_001E  S2701_C03_001E  \n",
       "count      508.000000      508.000000      508.000000      508.000000  \n",
       "mean     42211.299213      268.385827       51.595276       21.120276  \n",
       "std      20789.931801      182.975637       13.198659        9.035064  \n",
       "min       9550.000000        0.000000        5.500000        0.700000  \n",
       "25%      27673.250000      135.750000       41.675000       15.200000  \n",
       "50%      38147.500000      232.500000       51.450000       20.400000  \n",
       "75%      50910.000000      360.000000       60.725000       27.125000  \n",
       "max     155500.000000     1035.000000       86.800000       52.100000  \n",
       "\n",
       "[8 rows x 31 columns]"
      ]
     },
     "execution_count": 42,
     "metadata": {},
     "output_type": "execute_result"
    }
   ],
   "source": [
    "data_2014[data_2014['risk']==1].describe()"
   ]
  },
  {
   "cell_type": "code",
   "execution_count": 43,
   "metadata": {},
   "outputs": [
    {
     "data": {
      "text/html": [
       "<div>\n",
       "<style scoped>\n",
       "    .dataframe tbody tr th:only-of-type {\n",
       "        vertical-align: middle;\n",
       "    }\n",
       "\n",
       "    .dataframe tbody tr th {\n",
       "        vertical-align: top;\n",
       "    }\n",
       "\n",
       "    .dataframe thead th {\n",
       "        text-align: right;\n",
       "    }\n",
       "</style>\n",
       "<table border=\"1\" class=\"dataframe\">\n",
       "  <thead>\n",
       "    <tr style=\"text-align: right;\">\n",
       "      <th></th>\n",
       "      <th>tract</th>\n",
       "      <th>risk</th>\n",
       "      <th>buss_licences</th>\n",
       "      <th>building_violations</th>\n",
       "      <th>vehicle_theft</th>\n",
       "      <th>burglary</th>\n",
       "      <th>robbery</th>\n",
       "      <th>public_peace_violation</th>\n",
       "      <th>weapons_violation</th>\n",
       "      <th>sexual_assault</th>\n",
       "      <th>...</th>\n",
       "      <th>S1401_C02_030E</th>\n",
       "      <th>S1501_C02_002E</th>\n",
       "      <th>S1501_C02_008E</th>\n",
       "      <th>S1601_C02_003E</th>\n",
       "      <th>S1701_C03_001E</th>\n",
       "      <th>S1810_C03_001E</th>\n",
       "      <th>S1901_C01_012E</th>\n",
       "      <th>S2201_C02_001E</th>\n",
       "      <th>S2301_C03_001E</th>\n",
       "      <th>S2701_C03_001E</th>\n",
       "    </tr>\n",
       "  </thead>\n",
       "  <tbody>\n",
       "    <tr>\n",
       "      <td>count</td>\n",
       "      <td>290.000000</td>\n",
       "      <td>290.0</td>\n",
       "      <td>289.000000</td>\n",
       "      <td>289.000000</td>\n",
       "      <td>289.000000</td>\n",
       "      <td>289.000000</td>\n",
       "      <td>289.000000</td>\n",
       "      <td>289.000000</td>\n",
       "      <td>289.000000</td>\n",
       "      <td>289.000000</td>\n",
       "      <td>...</td>\n",
       "      <td>289.0</td>\n",
       "      <td>2.890000e+02</td>\n",
       "      <td>289.000000</td>\n",
       "      <td>2.890000e+02</td>\n",
       "      <td>289.000000</td>\n",
       "      <td>289.000000</td>\n",
       "      <td>289.000000</td>\n",
       "      <td>289.000000</td>\n",
       "      <td>289.000000</td>\n",
       "      <td>289.000000</td>\n",
       "    </tr>\n",
       "    <tr>\n",
       "      <td>mean</td>\n",
       "      <td>263753.882759</td>\n",
       "      <td>0.0</td>\n",
       "      <td>3.792998</td>\n",
       "      <td>10.082291</td>\n",
       "      <td>4.796314</td>\n",
       "      <td>6.219557</td>\n",
       "      <td>3.179939</td>\n",
       "      <td>0.667483</td>\n",
       "      <td>0.477546</td>\n",
       "      <td>0.376747</td>\n",
       "      <td>...</td>\n",
       "      <td>-888888888.0</td>\n",
       "      <td>-2.306791e+06</td>\n",
       "      <td>6.604844</td>\n",
       "      <td>-2.306741e+06</td>\n",
       "      <td>17.807958</td>\n",
       "      <td>8.861938</td>\n",
       "      <td>59397.460208</td>\n",
       "      <td>140.031142</td>\n",
       "      <td>64.568858</td>\n",
       "      <td>16.041869</td>\n",
       "    </tr>\n",
       "    <tr>\n",
       "      <td>std</td>\n",
       "      <td>270709.611374</td>\n",
       "      <td>0.0</td>\n",
       "      <td>5.752654</td>\n",
       "      <td>9.192982</td>\n",
       "      <td>4.724295</td>\n",
       "      <td>4.077827</td>\n",
       "      <td>3.500962</td>\n",
       "      <td>1.351882</td>\n",
       "      <td>0.795966</td>\n",
       "      <td>0.615924</td>\n",
       "      <td>...</td>\n",
       "      <td>0.0</td>\n",
       "      <td>3.921569e+07</td>\n",
       "      <td>6.548572</td>\n",
       "      <td>3.921569e+07</td>\n",
       "      <td>12.595630</td>\n",
       "      <td>4.982762</td>\n",
       "      <td>25443.164563</td>\n",
       "      <td>153.653501</td>\n",
       "      <td>12.380257</td>\n",
       "      <td>9.742017</td>\n",
       "    </tr>\n",
       "    <tr>\n",
       "      <td>min</td>\n",
       "      <td>10100.000000</td>\n",
       "      <td>0.0</td>\n",
       "      <td>0.000000</td>\n",
       "      <td>0.000000</td>\n",
       "      <td>0.000000</td>\n",
       "      <td>0.000000</td>\n",
       "      <td>0.000000</td>\n",
       "      <td>0.000000</td>\n",
       "      <td>0.000000</td>\n",
       "      <td>0.000000</td>\n",
       "      <td>...</td>\n",
       "      <td>-888888888.0</td>\n",
       "      <td>-6.666667e+08</td>\n",
       "      <td>0.000000</td>\n",
       "      <td>-6.666667e+08</td>\n",
       "      <td>0.800000</td>\n",
       "      <td>0.300000</td>\n",
       "      <td>11650.000000</td>\n",
       "      <td>0.000000</td>\n",
       "      <td>24.100000</td>\n",
       "      <td>0.800000</td>\n",
       "    </tr>\n",
       "    <tr>\n",
       "      <td>25%</td>\n",
       "      <td>61575.000000</td>\n",
       "      <td>0.0</td>\n",
       "      <td>0.996016</td>\n",
       "      <td>3.101212</td>\n",
       "      <td>2.249213</td>\n",
       "      <td>3.347280</td>\n",
       "      <td>1.125704</td>\n",
       "      <td>0.000000</td>\n",
       "      <td>0.000000</td>\n",
       "      <td>0.000000</td>\n",
       "      <td>...</td>\n",
       "      <td>-888888888.0</td>\n",
       "      <td>0.000000e+00</td>\n",
       "      <td>1.600000</td>\n",
       "      <td>5.190000e+01</td>\n",
       "      <td>8.400000</td>\n",
       "      <td>5.200000</td>\n",
       "      <td>40722.000000</td>\n",
       "      <td>34.000000</td>\n",
       "      <td>58.500000</td>\n",
       "      <td>8.100000</td>\n",
       "    </tr>\n",
       "    <tr>\n",
       "      <td>50%</td>\n",
       "      <td>150451.500000</td>\n",
       "      <td>0.0</td>\n",
       "      <td>2.199010</td>\n",
       "      <td>7.222389</td>\n",
       "      <td>3.544956</td>\n",
       "      <td>5.438724</td>\n",
       "      <td>2.129472</td>\n",
       "      <td>0.316156</td>\n",
       "      <td>0.266738</td>\n",
       "      <td>0.165317</td>\n",
       "      <td>...</td>\n",
       "      <td>-888888888.0</td>\n",
       "      <td>6.600000e+00</td>\n",
       "      <td>5.100000</td>\n",
       "      <td>6.360000e+01</td>\n",
       "      <td>15.100000</td>\n",
       "      <td>8.400000</td>\n",
       "      <td>54423.000000</td>\n",
       "      <td>91.000000</td>\n",
       "      <td>62.800000</td>\n",
       "      <td>14.500000</td>\n",
       "    </tr>\n",
       "    <tr>\n",
       "      <td>75%</td>\n",
       "      <td>381250.000000</td>\n",
       "      <td>0.0</td>\n",
       "      <td>4.126142</td>\n",
       "      <td>14.541558</td>\n",
       "      <td>5.707297</td>\n",
       "      <td>8.137432</td>\n",
       "      <td>4.026611</td>\n",
       "      <td>0.776699</td>\n",
       "      <td>0.631114</td>\n",
       "      <td>0.519076</td>\n",
       "      <td>...</td>\n",
       "      <td>-888888888.0</td>\n",
       "      <td>2.260000e+01</td>\n",
       "      <td>9.400000</td>\n",
       "      <td>7.470000e+01</td>\n",
       "      <td>23.900000</td>\n",
       "      <td>11.000000</td>\n",
       "      <td>76979.000000</td>\n",
       "      <td>193.000000</td>\n",
       "      <td>73.900000</td>\n",
       "      <td>21.400000</td>\n",
       "    </tr>\n",
       "    <tr>\n",
       "      <td>max</td>\n",
       "      <td>842300.000000</td>\n",
       "      <td>0.0</td>\n",
       "      <td>66.461775</td>\n",
       "      <td>43.750000</td>\n",
       "      <td>34.755134</td>\n",
       "      <td>23.587005</td>\n",
       "      <td>28.436019</td>\n",
       "      <td>16.355140</td>\n",
       "      <td>6.230530</td>\n",
       "      <td>4.739336</td>\n",
       "      <td>...</td>\n",
       "      <td>-888888888.0</td>\n",
       "      <td>9.180000e+01</td>\n",
       "      <td>31.500000</td>\n",
       "      <td>1.000000e+02</td>\n",
       "      <td>74.000000</td>\n",
       "      <td>36.000000</td>\n",
       "      <td>134018.000000</td>\n",
       "      <td>1012.000000</td>\n",
       "      <td>91.700000</td>\n",
       "      <td>49.200000</td>\n",
       "    </tr>\n",
       "  </tbody>\n",
       "</table>\n",
       "<p>8 rows × 31 columns</p>\n",
       "</div>"
      ],
      "text/plain": [
       "               tract   risk  buss_licences  building_violations  \\\n",
       "count     290.000000  290.0     289.000000           289.000000   \n",
       "mean   263753.882759    0.0       3.792998            10.082291   \n",
       "std    270709.611374    0.0       5.752654             9.192982   \n",
       "min     10100.000000    0.0       0.000000             0.000000   \n",
       "25%     61575.000000    0.0       0.996016             3.101212   \n",
       "50%    150451.500000    0.0       2.199010             7.222389   \n",
       "75%    381250.000000    0.0       4.126142            14.541558   \n",
       "max    842300.000000    0.0      66.461775            43.750000   \n",
       "\n",
       "       vehicle_theft    burglary     robbery  public_peace_violation  \\\n",
       "count     289.000000  289.000000  289.000000              289.000000   \n",
       "mean        4.796314    6.219557    3.179939                0.667483   \n",
       "std         4.724295    4.077827    3.500962                1.351882   \n",
       "min         0.000000    0.000000    0.000000                0.000000   \n",
       "25%         2.249213    3.347280    1.125704                0.000000   \n",
       "50%         3.544956    5.438724    2.129472                0.316156   \n",
       "75%         5.707297    8.137432    4.026611                0.776699   \n",
       "max        34.755134   23.587005   28.436019               16.355140   \n",
       "\n",
       "       weapons_violation  sexual_assault  ...  S1401_C02_030E  S1501_C02_002E  \\\n",
       "count         289.000000      289.000000  ...           289.0    2.890000e+02   \n",
       "mean            0.477546        0.376747  ...    -888888888.0   -2.306791e+06   \n",
       "std             0.795966        0.615924  ...             0.0    3.921569e+07   \n",
       "min             0.000000        0.000000  ...    -888888888.0   -6.666667e+08   \n",
       "25%             0.000000        0.000000  ...    -888888888.0    0.000000e+00   \n",
       "50%             0.266738        0.165317  ...    -888888888.0    6.600000e+00   \n",
       "75%             0.631114        0.519076  ...    -888888888.0    2.260000e+01   \n",
       "max             6.230530        4.739336  ...    -888888888.0    9.180000e+01   \n",
       "\n",
       "       S1501_C02_008E  S1601_C02_003E  S1701_C03_001E  S1810_C03_001E  \\\n",
       "count      289.000000    2.890000e+02      289.000000      289.000000   \n",
       "mean         6.604844   -2.306741e+06       17.807958        8.861938   \n",
       "std          6.548572    3.921569e+07       12.595630        4.982762   \n",
       "min          0.000000   -6.666667e+08        0.800000        0.300000   \n",
       "25%          1.600000    5.190000e+01        8.400000        5.200000   \n",
       "50%          5.100000    6.360000e+01       15.100000        8.400000   \n",
       "75%          9.400000    7.470000e+01       23.900000       11.000000   \n",
       "max         31.500000    1.000000e+02       74.000000       36.000000   \n",
       "\n",
       "       S1901_C01_012E  S2201_C02_001E  S2301_C03_001E  S2701_C03_001E  \n",
       "count      289.000000      289.000000      289.000000      289.000000  \n",
       "mean     59397.460208      140.031142       64.568858       16.041869  \n",
       "std      25443.164563      153.653501       12.380257        9.742017  \n",
       "min      11650.000000        0.000000       24.100000        0.800000  \n",
       "25%      40722.000000       34.000000       58.500000        8.100000  \n",
       "50%      54423.000000       91.000000       62.800000       14.500000  \n",
       "75%      76979.000000      193.000000       73.900000       21.400000  \n",
       "max     134018.000000     1012.000000       91.700000       49.200000  \n",
       "\n",
       "[8 rows x 31 columns]"
      ]
     },
     "execution_count": 43,
     "metadata": {},
     "output_type": "execute_result"
    }
   ],
   "source": [
    "data_2014[data_2014['risk']==0].describe()"
   ]
  },
  {
   "cell_type": "code",
   "execution_count": 44,
   "metadata": {},
   "outputs": [],
   "source": [
    "data_2014.drop('tract', axis=1, inplace=True)\n",
    "data_2015.drop('tract', axis=1, inplace=True)\n",
    "data_2016.drop('tract', axis=1, inplace=True)\n",
    "data_2017.drop('tract', axis=1, inplace=True)"
   ]
  },
  {
   "cell_type": "code",
   "execution_count": 45,
   "metadata": {},
   "outputs": [],
   "source": [
    "data_2014.to_csv('clean_data\\data_2014.csv', index=False)\n",
    "data_2015.to_csv('clean_data\\data_2015.csv', index=False)\n",
    "data_2016.to_csv('clean_data\\data_2016.csv', index=False)\n",
    "data_2017.to_csv('clean_data\\data_2017.csv', index=False)"
   ]
  },
  {
   "cell_type": "code",
   "execution_count": null,
   "metadata": {},
   "outputs": [],
   "source": []
  }
 ],
 "metadata": {
  "kernelspec": {
   "display_name": "Python 3",
   "language": "python",
   "name": "python3"
  },
  "language_info": {
   "codemirror_mode": {
    "name": "ipython",
    "version": 3
   },
   "file_extension": ".py",
   "mimetype": "text/x-python",
   "name": "python",
   "nbconvert_exporter": "python",
   "pygments_lexer": "ipython3",
   "version": "3.7.4"
  }
 },
 "nbformat": 4,
 "nbformat_minor": 2
}
