{
 "cells": [
  {
   "cell_type": "code",
   "execution_count": 1,
   "metadata": {},
   "outputs": [],
   "source": [
    "import pandas as pd\n",
    "import json\n",
    "from sodapy import Socrata\n",
    "import geopandas as gpd\n",
    "import util\n",
    "from shapely.geometry import Point\n",
    "#import googlemaps\n",
    "import creds\n",
    "%reload_ext autoreload\n",
    "%autoreload 2"
   ]
  },
  {
   "cell_type": "code",
   "execution_count": 12,
   "metadata": {},
   "outputs": [],
   "source": [
    "# homicides = util.variable_by_tract('homicides')\n",
    "# buss_licences = util.variable_by_tract('buss_licences')\n",
    "# building_violations = util.variable_by_tract('building_violations')\n",
    "# vehicle_theft = util.variable_by_tract('vehicle_theft')\n",
    "# burglary = util.variable_by_tract('burglary')\n",
    "# robbery = util.variable_by_tract('robbery')\n",
    "# public_peace_violation = util.variable_by_tract('public_peace_violation')\n",
    "# weapons_violation = util.variable_by_tract('weapons_violation')\n",
    "# sexual_assault = util.variable_by_tract('sexual_assault')\n",
    "# public_peace_violation = util.variable_by_tract('public_peace_violation')\n",
    "# rodents = util.variable_by_tract('rodents')\n",
    "# garbage = util.variable_by_tract('garbage')\n",
    "# sanitation = util.variable_by_tract('sanitation')\n",
    "# abandon_vehicles = util.variable_by_tract('abandon_vehicles')\n",
    "# pot_holes = util.variable_by_tract('pot_holes')\n",
    "# tree_trims = util.variable_by_tract('tree_trims')\n",
    "street_lights = util.variable_by_tract('street_lights')"
   ]
  },
  {
   "cell_type": "code",
   "execution_count": null,
   "metadata": {},
   "outputs": [],
   "source": [
    "# 'buss_licences',\n",
    "# 'building_violations',\n",
    "# 'vehicle_theft',\n",
    "# 'burglary',\n",
    "# 'robbery',\n",
    "# 'public_peace_violation',\n",
    "# 'weapons_violation',\n",
    "# 'sexual_assault',\n",
    "# 'homicides',\n",
    "# 'rodents',\n",
    "# 'garbage',\n",
    "# 'sanitation',\n",
    "# 'abandon_vehicles',\n",
    "# 'pot_holes',\n",
    "# 'tree_trims',\n",
    "# 'street_lights'"
   ]
  },
  {
   "cell_type": "code",
   "execution_count": 21,
   "metadata": {},
   "outputs": [],
   "source": [
    "df_list = [\n",
    "    buss_licences,\n",
    "    building_violations,\n",
    "    vehicle_theft,\n",
    "    burglary,\n",
    "    robbery,\n",
    "    public_peace_violation,\n",
    "    weapons_violation,\n",
    "    sexual_assault,\n",
    "    homicides,\n",
    "    rodents,\n",
    "    garbage,\n",
    "    sanitation,\n",
    "    abandon_vehicles,\n",
    "    pot_holes,\n",
    "    tree_trims,\n",
    "    street_lights\n",
    "]"
   ]
  },
  {
   "cell_type": "code",
   "execution_count": 17,
   "metadata": {},
   "outputs": [],
   "source": [
    "tree_trims['year']=tree_trims['year'].astype(int)"
   ]
  },
  {
   "cell_type": "code",
   "execution_count": 22,
   "metadata": {},
   "outputs": [],
   "source": [
    "complete = util.merge_several_df(df_list)"
   ]
  },
  {
   "cell_type": "code",
   "execution_count": 28,
   "metadata": {},
   "outputs": [],
   "source": [
    "complete = complete.fillna(0)"
   ]
  },
  {
   "cell_type": "code",
   "execution_count": 83,
   "metadata": {},
   "outputs": [],
   "source": [
    "complete.to_csv('clean_data/raw_complete_dataportal.csv', index=False)"
   ]
  },
  {
   "cell_type": "code",
   "execution_count": 36,
   "metadata": {},
   "outputs": [],
   "source": [
    "acs_2012 = pd.read_csv('clean_data/acs_2012.csv')\n",
    "acs_2013 = pd.read_csv('clean_data/acs_2013.csv')\n",
    "acs_2014 = pd.read_csv('clean_data/acs_2014.csv')\n",
    "acs_2015 = pd.read_csv('clean_data/acs_2015.csv')\n",
    "acs_2016 = pd.read_csv('clean_data/acs_2016.csv')\n",
    "acs_2017 = pd.read_csv('clean_data/acs_2017.csv')"
   ]
  },
  {
   "cell_type": "code",
   "execution_count": 77,
   "metadata": {},
   "outputs": [
    {
     "name": "stderr",
     "output_type": "stream",
     "text": [
      "C:\\Users\\jesus\\Anaconda3\\envs\\spatial\\lib\\site-packages\\ipykernel_launcher.py:2: SettingWithCopyWarning: \n",
      "A value is trying to be set on a copy of a slice from a DataFrame.\n",
      "Try using .loc[row_indexer,col_indexer] = value instead\n",
      "\n",
      "See the caveats in the documentation: http://pandas.pydata.org/pandas-docs/stable/user_guide/indexing.html#returning-a-view-versus-a-copy\n",
      "  \n"
     ]
    }
   ],
   "source": [
    "comp_2012 = complete[complete['year']==2012]\n",
    "comp_2012['tract'] = comp_2012['tract'].astype(int)\n",
    "comp_2012 = comp_2012.merge(acs_2012, how='left', on='tract')\n",
    "comp_2012.drop(['year','NAME', 'state', 'county', 'S1401_C01_029E', 'S1401_C01_030E', 'S1501_C02_014E'], axis=1, inplace=True)\n",
    "cols = list(comp_2012.columns)\n",
    "info = [[int(r['tract']), r['buss_licences']/(r['S0101_C01_001E']/1000), r['building_violations']/(r['S0101_C01_001E']/1000),\n",
    "       r['vehicle_theft']/(r['S0101_C01_001E']/1000), r['burglary']/(r['S0101_C01_001E']/1000),\n",
    "         r['robbery']/(r['S0101_C01_001E']/1000), r['public_peace_violation']/(r['S0101_C01_001E']/1000),\n",
    "       r['weapons_violation']/(r['S0101_C01_001E']/1000), r['sexual_assault']/(r['S0101_C01_001E']/1000), \n",
    "         r['homicides'], r['rodents']/(r['S0101_C01_001E']/1000),r['garbage']/(r['S0101_C01_001E']/1000), \n",
    "         r['sanitation']/(r['S0101_C01_001E']/1000), r['abandon_vehicles']/(r['S0101_C01_001E']/1000), \n",
    "         r['pot_holes']/(r['S0101_C01_001E']/1000), r['tree_trims']/(r['S0101_C01_001E']/1000),\n",
    "       r['street_lights']/(r['S0101_C01_001E']/1000), r['S0101_C01_001E'], r['S1101_C01_002E'], \n",
    "         r['S1401_C02_001E'], r['S1401_C02_030E'], r['S1501_C02_002E'], \n",
    "         r['S1501_C02_008E'], r['S1501_C02_015E'], r['S1601_C02_003E'], r['S1701_C03_001E'],\n",
    "       r['S1810_C03_001E'], r['S1901_C01_012E'], r['S2201_C02_001E'], r['S2301_C03_001E'],\n",
    "       r['S2701_C03_001E']] for i, r in comp_2012.iterrows() if r['S0101_C01_001E']>0]\n",
    "comp_2012 = pd.DataFrame(info, columns=cols)\n",
    "comp_2012.to_csv('clean_data/complete_2012.csv', index=False)"
   ]
  },
  {
   "cell_type": "code",
   "execution_count": 78,
   "metadata": {},
   "outputs": [
    {
     "name": "stderr",
     "output_type": "stream",
     "text": [
      "C:\\Users\\jesus\\Anaconda3\\envs\\spatial\\lib\\site-packages\\ipykernel_launcher.py:2: SettingWithCopyWarning: \n",
      "A value is trying to be set on a copy of a slice from a DataFrame.\n",
      "Try using .loc[row_indexer,col_indexer] = value instead\n",
      "\n",
      "See the caveats in the documentation: http://pandas.pydata.org/pandas-docs/stable/user_guide/indexing.html#returning-a-view-versus-a-copy\n",
      "  \n"
     ]
    }
   ],
   "source": [
    "comp_2013 = complete[complete['year']==2013]\n",
    "comp_2013['tract'] = comp_2013['tract'].astype(int)\n",
    "comp_2013 = comp_2013.merge(acs_2013, how='left', on='tract')\n",
    "comp_2013.drop(['year','NAME', 'state', 'county', 'S1401_C01_029E', 'S1401_C01_030E', 'S1501_C02_014E'], axis=1, inplace=True)\n",
    "cols = list(comp_2013.columns)\n",
    "info = [[int(r['tract']), r['buss_licences']/(r['S0101_C01_001E']/1000), r['building_violations']/(r['S0101_C01_001E']/1000),\n",
    "       r['vehicle_theft']/(r['S0101_C01_001E']/1000), r['burglary']/(r['S0101_C01_001E']/1000),\n",
    "         r['robbery']/(r['S0101_C01_001E']/1000), r['public_peace_violation']/(r['S0101_C01_001E']/1000),\n",
    "       r['weapons_violation']/(r['S0101_C01_001E']/1000), r['sexual_assault']/(r['S0101_C01_001E']/1000), \n",
    "         r['homicides'], r['rodents']/(r['S0101_C01_001E']/1000),r['garbage']/(r['S0101_C01_001E']/1000), \n",
    "         r['sanitation']/(r['S0101_C01_001E']/1000), r['abandon_vehicles']/(r['S0101_C01_001E']/1000), \n",
    "         r['pot_holes']/(r['S0101_C01_001E']/1000), r['tree_trims']/(r['S0101_C01_001E']/1000),\n",
    "       r['street_lights']/(r['S0101_C01_001E']/1000), r['S0101_C01_001E'], r['S1101_C01_002E'], \n",
    "         r['S1401_C02_001E'], r['S1401_C02_030E'], r['S1501_C02_002E'], \n",
    "         r['S1501_C02_008E'], r['S1501_C02_015E'], r['S1601_C02_003E'], r['S1701_C03_001E'],\n",
    "       r['S1810_C03_001E'], r['S1901_C01_012E'], r['S2201_C02_001E'], r['S2301_C03_001E'],\n",
    "       r['S2701_C03_001E']] for i, r in comp_2013.iterrows() if r['S0101_C01_001E']>0]\n",
    "comp_2013 = pd.DataFrame(info, columns=cols)\n",
    "comp_2013.to_csv('clean_data/complete_2013.csv', index=False)"
   ]
  },
  {
   "cell_type": "code",
   "execution_count": 79,
   "metadata": {},
   "outputs": [
    {
     "name": "stderr",
     "output_type": "stream",
     "text": [
      "C:\\Users\\jesus\\Anaconda3\\envs\\spatial\\lib\\site-packages\\ipykernel_launcher.py:2: SettingWithCopyWarning: \n",
      "A value is trying to be set on a copy of a slice from a DataFrame.\n",
      "Try using .loc[row_indexer,col_indexer] = value instead\n",
      "\n",
      "See the caveats in the documentation: http://pandas.pydata.org/pandas-docs/stable/user_guide/indexing.html#returning-a-view-versus-a-copy\n",
      "  \n"
     ]
    }
   ],
   "source": [
    "comp_2014 = complete[complete['year']==2014]\n",
    "comp_2014['tract'] = comp_2014['tract'].astype(int)\n",
    "comp_2014 = comp_2014.merge(acs_2014, how='left', on='tract')\n",
    "comp_2014.drop(['year','NAME', 'state', 'county', 'S1401_C01_029E', 'S1401_C01_030E', 'S1501_C02_014E'], axis=1, inplace=True)\n",
    "cols = list(comp_2014.columns)\n",
    "info = [[int(r['tract']), r['buss_licences']/(r['S0101_C01_001E']/1000), r['building_violations']/(r['S0101_C01_001E']/1000),\n",
    "       r['vehicle_theft']/(r['S0101_C01_001E']/1000), r['burglary']/(r['S0101_C01_001E']/1000),\n",
    "         r['robbery']/(r['S0101_C01_001E']/1000), r['public_peace_violation']/(r['S0101_C01_001E']/1000),\n",
    "       r['weapons_violation']/(r['S0101_C01_001E']/1000), r['sexual_assault']/(r['S0101_C01_001E']/1000), \n",
    "         r['homicides'], r['rodents']/(r['S0101_C01_001E']/1000),r['garbage']/(r['S0101_C01_001E']/1000), \n",
    "         r['sanitation']/(r['S0101_C01_001E']/1000), r['abandon_vehicles']/(r['S0101_C01_001E']/1000), \n",
    "         r['pot_holes']/(r['S0101_C01_001E']/1000), r['tree_trims']/(r['S0101_C01_001E']/1000),\n",
    "       r['street_lights']/(r['S0101_C01_001E']/1000), r['S0101_C01_001E'], r['S1101_C01_002E'], \n",
    "         r['S1401_C02_001E'], r['S1401_C02_030E'], r['S1501_C02_002E'], \n",
    "         r['S1501_C02_008E'], r['S1501_C02_015E'], r['S1601_C02_003E'], r['S1701_C03_001E'],\n",
    "       r['S1810_C03_001E'], r['S1901_C01_012E'], r['S2201_C02_001E'], r['S2301_C03_001E'],\n",
    "       r['S2701_C03_001E']] for i, r in comp_2014.iterrows() if r['S0101_C01_001E']>0]\n",
    "comp_2014 = pd.DataFrame(info, columns=cols)\n",
    "comp_2014.to_csv('clean_data/complete_2014.csv', index=False)"
   ]
  },
  {
   "cell_type": "code",
   "execution_count": 80,
   "metadata": {},
   "outputs": [
    {
     "name": "stderr",
     "output_type": "stream",
     "text": [
      "C:\\Users\\jesus\\Anaconda3\\envs\\spatial\\lib\\site-packages\\ipykernel_launcher.py:2: SettingWithCopyWarning: \n",
      "A value is trying to be set on a copy of a slice from a DataFrame.\n",
      "Try using .loc[row_indexer,col_indexer] = value instead\n",
      "\n",
      "See the caveats in the documentation: http://pandas.pydata.org/pandas-docs/stable/user_guide/indexing.html#returning-a-view-versus-a-copy\n",
      "  \n"
     ]
    }
   ],
   "source": [
    "comp_2015 = complete[complete['year']==2015]\n",
    "comp_2015['tract'] = comp_2015['tract'].astype(int)\n",
    "comp_2015 = comp_2015.merge(acs_2015, how='left', on='tract')\n",
    "comp_2015.drop(['year','NAME', 'state', 'county', 'S1401_C01_029E', 'S1401_C01_030E', 'S1501_C02_014E'], axis=1, inplace=True)\n",
    "cols = list(comp_2015.columns)\n",
    "info = [[int(r['tract']), r['buss_licences']/(r['S0101_C01_001E']/1000), r['building_violations']/(r['S0101_C01_001E']/1000),\n",
    "       r['vehicle_theft']/(r['S0101_C01_001E']/1000), r['burglary']/(r['S0101_C01_001E']/1000),\n",
    "         r['robbery']/(r['S0101_C01_001E']/1000), r['public_peace_violation']/(r['S0101_C01_001E']/1000),\n",
    "       r['weapons_violation']/(r['S0101_C01_001E']/1000), r['sexual_assault']/(r['S0101_C01_001E']/1000), \n",
    "         r['homicides'], r['rodents']/(r['S0101_C01_001E']/1000),r['garbage']/(r['S0101_C01_001E']/1000), \n",
    "         r['sanitation']/(r['S0101_C01_001E']/1000), r['abandon_vehicles']/(r['S0101_C01_001E']/1000), \n",
    "         r['pot_holes']/(r['S0101_C01_001E']/1000), r['tree_trims']/(r['S0101_C01_001E']/1000),\n",
    "       r['street_lights']/(r['S0101_C01_001E']/1000), r['S0101_C01_001E'], r['S1101_C01_002E'], \n",
    "         r['S1401_C02_001E'], r['S1401_C02_030E'], r['S1501_C02_002E'], \n",
    "         r['S1501_C02_008E'], r['S1501_C02_015E'], r['S1601_C02_003E'], r['S1701_C03_001E'],\n",
    "       r['S1810_C03_001E'], r['S1901_C01_012E'], r['S2201_C02_001E'], r['S2301_C03_001E'],\n",
    "       r['S2701_C03_001E']] for i, r in comp_2015.iterrows() if r['S0101_C01_001E']>0]\n",
    "comp_2015 = pd.DataFrame(info, columns=cols)\n",
    "comp_2015.to_csv('clean_data/complete_2015.csv', index=False)"
   ]
  },
  {
   "cell_type": "code",
   "execution_count": 81,
   "metadata": {},
   "outputs": [
    {
     "name": "stderr",
     "output_type": "stream",
     "text": [
      "C:\\Users\\jesus\\Anaconda3\\envs\\spatial\\lib\\site-packages\\ipykernel_launcher.py:2: SettingWithCopyWarning: \n",
      "A value is trying to be set on a copy of a slice from a DataFrame.\n",
      "Try using .loc[row_indexer,col_indexer] = value instead\n",
      "\n",
      "See the caveats in the documentation: http://pandas.pydata.org/pandas-docs/stable/user_guide/indexing.html#returning-a-view-versus-a-copy\n",
      "  \n"
     ]
    }
   ],
   "source": [
    "comp_2016 = complete[complete['year']==2016]\n",
    "comp_2016['tract'] = comp_2016['tract'].astype(int)\n",
    "comp_2016 = comp_2016.merge(acs_2016, how='left', on='tract')\n",
    "comp_2016.drop(['year','NAME', 'state', 'county', 'S1401_C01_029E', 'S1401_C01_030E', 'S1501_C02_014E'], axis=1, inplace=True)\n",
    "cols = list(comp_2016.columns)\n",
    "info = [[int(r['tract']), r['buss_licences']/(r['S0101_C01_001E']/1000), r['building_violations']/(r['S0101_C01_001E']/1000),\n",
    "       r['vehicle_theft']/(r['S0101_C01_001E']/1000), r['burglary']/(r['S0101_C01_001E']/1000),\n",
    "         r['robbery']/(r['S0101_C01_001E']/1000), r['public_peace_violation']/(r['S0101_C01_001E']/1000),\n",
    "       r['weapons_violation']/(r['S0101_C01_001E']/1000), r['sexual_assault']/(r['S0101_C01_001E']/1000), \n",
    "         r['homicides'], r['rodents']/(r['S0101_C01_001E']/1000),r['garbage']/(r['S0101_C01_001E']/1000), \n",
    "         r['sanitation']/(r['S0101_C01_001E']/1000), r['abandon_vehicles']/(r['S0101_C01_001E']/1000), \n",
    "         r['pot_holes']/(r['S0101_C01_001E']/1000), r['tree_trims']/(r['S0101_C01_001E']/1000),\n",
    "       r['street_lights']/(r['S0101_C01_001E']/1000), r['S0101_C01_001E'], r['S1101_C01_002E'], \n",
    "         r['S1401_C02_001E'], r['S1401_C02_030E'], r['S1501_C02_002E'], \n",
    "         r['S1501_C02_008E'], r['S1501_C02_015E'], r['S1601_C02_003E'], r['S1701_C03_001E'],\n",
    "       r['S1810_C03_001E'], r['S1901_C01_012E'], r['S2201_C02_001E'], r['S2301_C03_001E'],\n",
    "       r['S2701_C03_001E']] for i, r in comp_2016.iterrows() if r['S0101_C01_001E']>0]\n",
    "comp_2016 = pd.DataFrame(info, columns=cols)\n",
    "comp_2016.to_csv('clean_data/complete_2016.csv', index=False)"
   ]
  },
  {
   "cell_type": "code",
   "execution_count": 82,
   "metadata": {},
   "outputs": [
    {
     "name": "stderr",
     "output_type": "stream",
     "text": [
      "C:\\Users\\jesus\\Anaconda3\\envs\\spatial\\lib\\site-packages\\ipykernel_launcher.py:2: SettingWithCopyWarning: \n",
      "A value is trying to be set on a copy of a slice from a DataFrame.\n",
      "Try using .loc[row_indexer,col_indexer] = value instead\n",
      "\n",
      "See the caveats in the documentation: http://pandas.pydata.org/pandas-docs/stable/user_guide/indexing.html#returning-a-view-versus-a-copy\n",
      "  \n"
     ]
    }
   ],
   "source": [
    "comp_2017 = complete[complete['year']==2017]\n",
    "comp_2017['tract'] = comp_2017['tract'].astype(int)\n",
    "comp_2017 = comp_2017.merge(acs_2017, how='left', on='tract')\n",
    "comp_2017.drop(['year','NAME', 'state', 'county', 'S1401_C01_029E', 'S1401_C01_030E', 'S1501_C02_014E'], axis=1, inplace=True)\n",
    "cols = list(comp_2017.columns)\n",
    "info = [[int(r['tract']), r['buss_licences']/(r['S0101_C01_001E']/1000), r['building_violations']/(r['S0101_C01_001E']/1000),\n",
    "       r['vehicle_theft']/(r['S0101_C01_001E']/1000), r['burglary']/(r['S0101_C01_001E']/1000),\n",
    "         r['robbery']/(r['S0101_C01_001E']/1000), r['public_peace_violation']/(r['S0101_C01_001E']/1000),\n",
    "       r['weapons_violation']/(r['S0101_C01_001E']/1000), r['sexual_assault']/(r['S0101_C01_001E']/1000), \n",
    "         r['homicides'], r['rodents']/(r['S0101_C01_001E']/1000),r['garbage']/(r['S0101_C01_001E']/1000), \n",
    "         r['sanitation']/(r['S0101_C01_001E']/1000), r['abandon_vehicles']/(r['S0101_C01_001E']/1000), \n",
    "         r['pot_holes']/(r['S0101_C01_001E']/1000), r['tree_trims']/(r['S0101_C01_001E']/1000),\n",
    "       r['street_lights']/(r['S0101_C01_001E']/1000), r['S0101_C01_001E'], r['S1101_C01_002E'], \n",
    "         r['S1401_C02_001E'], r['S1401_C02_030E'], r['S1501_C02_002E'], \n",
    "         r['S1501_C02_008E'], r['S1501_C02_015E'], r['S1601_C02_003E'], r['S1701_C03_001E'],\n",
    "       r['S1810_C03_001E'], r['S1901_C01_012E'], r['S2201_C02_001E'], r['S2301_C03_001E'],\n",
    "       r['S2701_C03_001E']] for i, r in comp_2017.iterrows() if r['S0101_C01_001E']>0]\n",
    "comp_2017 = pd.DataFrame(info, columns=cols)\n",
    "comp_2017.to_csv('clean_data/complete_2017.csv', index=False)"
   ]
  },
  {
   "cell_type": "markdown",
   "metadata": {},
   "source": [
    "# Dependent variable preparation"
   ]
  },
  {
   "cell_type": "code",
   "execution_count": 104,
   "metadata": {},
   "outputs": [],
   "source": [
    "dependent_tracts = gpd.read_file('clean_data\\geo_abandon_tracts.shp')\n",
    "dependent_tracts = dependent_tracts[['service_re', 'tract_x']]\n",
    "dependent_tracts.columns = ['id', 'tract']"
   ]
  },
  {
   "cell_type": "code",
   "execution_count": 106,
   "metadata": {},
   "outputs": [],
   "source": [
    "dependent = gpd.read_file('clean_data\\geo_abandon.shp')\n",
    "dependent = dependent[['service_re', 'year']]\n",
    "dependent.columns = ['id', 'year']"
   ]
  },
  {
   "cell_type": "code",
   "execution_count": 111,
   "metadata": {},
   "outputs": [],
   "source": [
    "dependent = dependent.merge(dependent_tracts, how='outer', on='id')"
   ]
  },
  {
   "cell_type": "code",
   "execution_count": 119,
   "metadata": {},
   "outputs": [],
   "source": [
    "dependent['year']=dependent['year'].astype(int)"
   ]
  },
  {
   "cell_type": "code",
   "execution_count": 129,
   "metadata": {},
   "outputs": [],
   "source": [
    "dependent = dependent[dependent['year']>2013].dropna(how='any', axis=0)\n",
    "dependent['tract']=dependent['tract'].astype(int)"
   ]
  },
  {
   "cell_type": "code",
   "execution_count": 151,
   "metadata": {},
   "outputs": [],
   "source": [
    "dependent = dependent.groupby(by=['year', 'tract']).count().reset_index()\n",
    "dependent.columns = ['year', 'tract', 'count']"
   ]
  },
  {
   "cell_type": "code",
   "execution_count": 178,
   "metadata": {},
   "outputs": [],
   "source": [
    "dependent_2014 = dependent[dependent['year']==2014].drop('year', axis=1)\n",
    "dependent_2015 = dependent[dependent['year']==2015].drop('year', axis=1)\n",
    "dependent_2016 = dependent[dependent['year']==2016].drop('year', axis=1)\n",
    "dependent_2017 = dependent[dependent['year']==2017].drop('year', axis=1)"
   ]
  },
  {
   "cell_type": "code",
   "execution_count": 179,
   "metadata": {},
   "outputs": [],
   "source": [
    "dependent_2014 = dependent_2014.merge(comp_2014[['tract','S0101_C01_001E']], how='right', on='tract').fillna(0)\n",
    "dependent_2014['count_ph'] = dependent_2014['count']/(comp_2014['S0101_C01_001E']/1000)\n",
    "dependent_2014.drop(['count','S0101_C01_001E'], axis=1, inplace=True)"
   ]
  },
  {
   "cell_type": "code",
   "execution_count": 180,
   "metadata": {},
   "outputs": [],
   "source": [
    "dependent_2015 = dependent_2015.merge(comp_2015[['tract','S0101_C01_001E']], how='right', on='tract').fillna(0)\n",
    "dependent_2015['count_ph'] = dependent_2015['count']/(comp_2015['S0101_C01_001E']/1000)\n",
    "dependent_2015.drop(['count','S0101_C01_001E'], axis=1, inplace=True)"
   ]
  },
  {
   "cell_type": "code",
   "execution_count": 181,
   "metadata": {},
   "outputs": [],
   "source": [
    "dependent_2016 = dependent_2016.merge(comp_2016[['tract','S0101_C01_001E']], how='right', on='tract').fillna(0)\n",
    "dependent_2016['count_ph'] = dependent_2016['count']/(comp_2016['S0101_C01_001E']/1000)\n",
    "dependent_2016.drop(['count','S0101_C01_001E'], axis=1, inplace=True)"
   ]
  },
  {
   "cell_type": "code",
   "execution_count": 182,
   "metadata": {},
   "outputs": [],
   "source": [
    "dependent_2017 = dependent_2017.merge(comp_2017[['tract','S0101_C01_001E']], how='right', on='tract').fillna(0)\n",
    "dependent_2017['count_ph'] = dependent_2017['count']/(comp_2017['S0101_C01_001E']/1000)\n",
    "dependent_2017.drop(['count','S0101_C01_001E'], axis=1, inplace=True)"
   ]
  },
  {
   "cell_type": "code",
   "execution_count": 175,
   "metadata": {},
   "outputs": [],
   "source": [
    "dependent_2014.to_csv('clean_data\\dependent_2014.csv')\n",
    "dependent_2015.to_csv('clean_data\\dependent_2015.csv')\n",
    "dependent_2016.to_csv('clean_data\\dependent_2016.csv')\n",
    "dependent_2017.to_csv('clean_data\\dependent_2017.csv')"
   ]
  },
  {
   "cell_type": "code",
   "execution_count": 183,
   "metadata": {},
   "outputs": [
    {
     "data": {
      "text/plain": [
       "<matplotlib.axes._subplots.AxesSubplot at 0x1ee456d9448>"
      ]
     },
     "execution_count": 183,
     "metadata": {},
     "output_type": "execute_result"
    },
    {
     "data": {
      "image/png": "[encoded data removed]",
      "text/plain": [
       "<Figure size 432x288 with 1 Axes>"
      ]
     },
     "metadata": {
      "needs_background": "light"
     },
     "output_type": "display_data"
    }
   ],
   "source": [
    "dependent_2014['count_ph'].plot.hist(bins=10)"
   ]
  },
  {
   "cell_type": "code",
   "execution_count": 184,
   "metadata": {},
   "outputs": [
    {
     "data": {
      "text/plain": [
       "<matplotlib.axes._subplots.AxesSubplot at 0x1ee45944708>"
      ]
     },
     "execution_count": 184,
     "metadata": {},
     "output_type": "execute_result"
    },
    {
     "data": {
      "image/png": "[encoded data removed]",
      "text/plain": [
       "<Figure size 432x288 with 1 Axes>"
      ]
     },
     "metadata": {
      "needs_background": "light"
     },
     "output_type": "display_data"
    }
   ],
   "source": [
    "dependent_2015['count_ph'].plot.hist(bins=10)"
   ]
  },
  {
   "cell_type": "code",
   "execution_count": 185,
   "metadata": {},
   "outputs": [
    {
     "data": {
      "text/plain": [
       "<matplotlib.axes._subplots.AxesSubplot at 0x1ee45aa4148>"
      ]
     },
     "execution_count": 185,
     "metadata": {},
     "output_type": "execute_result"
    },
    {
     "data": {
      "image/png": "[encoded data removed]",
      "text/plain": [
       "<Figure size 432x288 with 1 Axes>"
      ]
     },
     "metadata": {
      "needs_background": "light"
     },
     "output_type": "display_data"
    }
   ],
   "source": [
    "dependent_2016['count_ph'].plot.hist(bins=10)"
   ]
  },
  {
   "cell_type": "code",
   "execution_count": 186,
   "metadata": {},
   "outputs": [
    {
     "data": {
      "text/plain": [
       "<matplotlib.axes._subplots.AxesSubplot at 0x1ee45c2d688>"
      ]
     },
     "execution_count": 186,
     "metadata": {},
     "output_type": "execute_result"
    },
    {
     "data": {
      "image/png": "[encoded data removed]",
      "text/plain": [
       "<Figure size 432x288 with 1 Axes>"
      ]
     },
     "metadata": {
      "needs_background": "light"
     },
     "output_type": "display_data"
    }
   ],
   "source": [
    "dependent_2017['count_ph'].plot.hist(bins=10)"
   ]
  },
  {
   "cell_type": "code",
   "execution_count": 187,
   "metadata": {},
   "outputs": [
    {
     "data": {
      "text/plain": [
       "count    798.000000\n",
       "mean       0.271568\n",
       "std        0.285525\n",
       "min        0.000000\n",
       "25%        0.000000\n",
       "50%        0.228285\n",
       "75%        0.385505\n",
       "max        4.000000\n",
       "Name: count_ph, dtype: float64"
      ]
     },
     "execution_count": 187,
     "metadata": {},
     "output_type": "execute_result"
    }
   ],
   "source": [
    "dependent_2014['count_ph'].describe()"
   ]
  },
  {
   "cell_type": "code",
   "execution_count": 188,
   "metadata": {},
   "outputs": [
    {
     "data": {
      "text/plain": [
       "count    798.000000\n",
       "mean       0.270434\n",
       "std        0.281905\n",
       "min        0.000000\n",
       "25%        0.000000\n",
       "50%        0.229779\n",
       "75%        0.382594\n",
       "max        3.968254\n",
       "Name: count_ph, dtype: float64"
      ]
     },
     "execution_count": 188,
     "metadata": {},
     "output_type": "execute_result"
    }
   ],
   "source": [
    "dependent_2015['count_ph'].describe()"
   ]
  },
  {
   "cell_type": "code",
   "execution_count": 189,
   "metadata": {},
   "outputs": [
    {
     "data": {
      "text/plain": [
       "count    798.000000\n",
       "mean       0.246527\n",
       "std        0.273438\n",
       "min        0.000000\n",
       "25%        0.000000\n",
       "50%        0.210372\n",
       "75%        0.365564\n",
       "max        3.355705\n",
       "Name: count_ph, dtype: float64"
      ]
     },
     "execution_count": 189,
     "metadata": {},
     "output_type": "execute_result"
    }
   ],
   "source": [
    "dependent_2016['count_ph'].describe()"
   ]
  },
  {
   "cell_type": "code",
   "execution_count": 190,
   "metadata": {},
   "outputs": [
    {
     "data": {
      "text/plain": [
       "count    798.000000\n",
       "mean       0.224911\n",
       "std        0.268160\n",
       "min        0.000000\n",
       "25%        0.000000\n",
       "50%        0.188715\n",
       "75%        0.344502\n",
       "max        2.932551\n",
       "Name: count_ph, dtype: float64"
      ]
     },
     "execution_count": 190,
     "metadata": {},
     "output_type": "execute_result"
    }
   ],
   "source": [
    "dependent_2017['count_ph'].describe()"
   ]
  },
  {
   "cell_type": "code",
   "execution_count": 191,
   "metadata": {},
   "outputs": [],
   "source": [
    "dependent_2014['risk'] = dependent_2014['count_ph'].apply(lambda x: 1 if x > 0.3 else 0)\n",
    "dependent_2015['risk'] = dependent_2015['count_ph'].apply(lambda x: 1 if x > 0.3 else 0)\n",
    "dependent_2016['risk'] = dependent_2016['count_ph'].apply(lambda x: 1 if x > 0.3 else 0)\n",
    "dependent_2017['risk'] = dependent_2017['count_ph'].apply(lambda x: 1 if x > 0.3 else 0)"
   ]
  },
  {
   "cell_type": "code",
   "execution_count": 194,
   "metadata": {},
   "outputs": [],
   "source": [
    "dependent_2014.drop('count_ph', axis=1, inplace=True)\n",
    "dependent_2015.drop('count_ph', axis=1, inplace=True)\n",
    "dependent_2016.drop('count_ph', axis=1, inplace=True)\n",
    "dependent_2017.drop('count_ph', axis=1, inplace=True)"
   ]
  },
  {
   "cell_type": "code",
   "execution_count": 195,
   "metadata": {},
   "outputs": [],
   "source": [
    "data_2014 = dependent_2014.merge(comp_2012, how='left', on='tract' )\n",
    "data_2015 = dependent_2015.merge(comp_2013, how='left', on='tract' )\n",
    "data_2016 = dependent_2016.merge(comp_2014, how='left', on='tract' )\n",
    "data_2017 = dependent_2017.merge(comp_2015, how='left', on='tract' )"
   ]
  },
  {
   "cell_type": "code",
   "execution_count": 199,
   "metadata": {},
   "outputs": [
    {
     "data": {
      "text/html": [
       "<div>\n",
       "<style scoped>\n",
       "    .dataframe tbody tr th:only-of-type {\n",
       "        vertical-align: middle;\n",
       "    }\n",
       "\n",
       "    .dataframe tbody tr th {\n",
       "        vertical-align: top;\n",
       "    }\n",
       "\n",
       "    .dataframe thead th {\n",
       "        text-align: right;\n",
       "    }\n",
       "</style>\n",
       "<table border=\"1\" class=\"dataframe\">\n",
       "  <thead>\n",
       "    <tr style=\"text-align: right;\">\n",
       "      <th></th>\n",
       "      <th>tract</th>\n",
       "      <th>risk</th>\n",
       "      <th>buss_licences</th>\n",
       "      <th>building_violations</th>\n",
       "      <th>vehicle_theft</th>\n",
       "      <th>burglary</th>\n",
       "      <th>robbery</th>\n",
       "      <th>public_peace_violation</th>\n",
       "      <th>weapons_violation</th>\n",
       "      <th>sexual_assault</th>\n",
       "      <th>...</th>\n",
       "      <th>S1501_C02_002E</th>\n",
       "      <th>S1501_C02_008E</th>\n",
       "      <th>S1501_C02_015E</th>\n",
       "      <th>S1601_C02_003E</th>\n",
       "      <th>S1701_C03_001E</th>\n",
       "      <th>S1810_C03_001E</th>\n",
       "      <th>S1901_C01_012E</th>\n",
       "      <th>S2201_C02_001E</th>\n",
       "      <th>S2301_C03_001E</th>\n",
       "      <th>S2701_C03_001E</th>\n",
       "    </tr>\n",
       "  </thead>\n",
       "  <tbody>\n",
       "    <tr>\n",
       "      <td>count</td>\n",
       "      <td>292.000000</td>\n",
       "      <td>292.0</td>\n",
       "      <td>292.000000</td>\n",
       "      <td>292.000000</td>\n",
       "      <td>292.000000</td>\n",
       "      <td>292.000000</td>\n",
       "      <td>292.000000</td>\n",
       "      <td>292.000000</td>\n",
       "      <td>292.000000</td>\n",
       "      <td>292.000000</td>\n",
       "      <td>...</td>\n",
       "      <td>292.000000</td>\n",
       "      <td>292.000000</td>\n",
       "      <td>292.000000</td>\n",
       "      <td>2.920000e+02</td>\n",
       "      <td>292.000000</td>\n",
       "      <td>292.000000</td>\n",
       "      <td>292.000000</td>\n",
       "      <td>292.000000</td>\n",
       "      <td>292.000000</td>\n",
       "      <td>292.000000</td>\n",
       "    </tr>\n",
       "    <tr>\n",
       "      <td>mean</td>\n",
       "      <td>501873.174658</td>\n",
       "      <td>1.0</td>\n",
       "      <td>2.437805</td>\n",
       "      <td>24.525884</td>\n",
       "      <td>7.057847</td>\n",
       "      <td>11.093926</td>\n",
       "      <td>7.137655</td>\n",
       "      <td>1.602066</td>\n",
       "      <td>2.387521</td>\n",
       "      <td>0.635347</td>\n",
       "      <td>...</td>\n",
       "      <td>26.168836</td>\n",
       "      <td>13.644521</td>\n",
       "      <td>19.216781</td>\n",
       "      <td>-1.598168e+07</td>\n",
       "      <td>26.138014</td>\n",
       "      <td>12.198288</td>\n",
       "      <td>42590.938356</td>\n",
       "      <td>255.116438</td>\n",
       "      <td>51.417466</td>\n",
       "      <td>20.785959</td>\n",
       "    </tr>\n",
       "    <tr>\n",
       "      <td>std</td>\n",
       "      <td>242028.535914</td>\n",
       "      <td>0.0</td>\n",
       "      <td>2.343507</td>\n",
       "      <td>21.541208</td>\n",
       "      <td>4.074309</td>\n",
       "      <td>7.547580</td>\n",
       "      <td>6.578916</td>\n",
       "      <td>1.988084</td>\n",
       "      <td>2.412354</td>\n",
       "      <td>0.672243</td>\n",
       "      <td>...</td>\n",
       "      <td>20.494631</td>\n",
       "      <td>8.145477</td>\n",
       "      <td>19.624522</td>\n",
       "      <td>1.021509e+08</td>\n",
       "      <td>14.089553</td>\n",
       "      <td>5.253227</td>\n",
       "      <td>20349.873809</td>\n",
       "      <td>169.067851</td>\n",
       "      <td>12.901400</td>\n",
       "      <td>8.784095</td>\n",
       "    </tr>\n",
       "    <tr>\n",
       "      <td>min</td>\n",
       "      <td>20200.000000</td>\n",
       "      <td>1.0</td>\n",
       "      <td>0.000000</td>\n",
       "      <td>0.000000</td>\n",
       "      <td>0.235239</td>\n",
       "      <td>0.667928</td>\n",
       "      <td>0.000000</td>\n",
       "      <td>0.000000</td>\n",
       "      <td>0.000000</td>\n",
       "      <td>0.000000</td>\n",
       "      <td>...</td>\n",
       "      <td>0.000000</td>\n",
       "      <td>0.000000</td>\n",
       "      <td>0.000000</td>\n",
       "      <td>-6.666667e+08</td>\n",
       "      <td>0.400000</td>\n",
       "      <td>1.000000</td>\n",
       "      <td>13927.000000</td>\n",
       "      <td>0.000000</td>\n",
       "      <td>5.500000</td>\n",
       "      <td>2.400000</td>\n",
       "    </tr>\n",
       "    <tr>\n",
       "      <td>25%</td>\n",
       "      <td>260875.000000</td>\n",
       "      <td>1.0</td>\n",
       "      <td>1.097194</td>\n",
       "      <td>9.276275</td>\n",
       "      <td>4.136857</td>\n",
       "      <td>5.564113</td>\n",
       "      <td>2.019995</td>\n",
       "      <td>0.405455</td>\n",
       "      <td>0.429461</td>\n",
       "      <td>0.083491</td>\n",
       "      <td>...</td>\n",
       "      <td>10.000000</td>\n",
       "      <td>7.975000</td>\n",
       "      <td>6.675000</td>\n",
       "      <td>4.747500e+01</td>\n",
       "      <td>15.000000</td>\n",
       "      <td>8.200000</td>\n",
       "      <td>28880.750000</td>\n",
       "      <td>131.750000</td>\n",
       "      <td>41.875000</td>\n",
       "      <td>14.725000</td>\n",
       "    </tr>\n",
       "    <tr>\n",
       "      <td>50%</td>\n",
       "      <td>530450.500000</td>\n",
       "      <td>1.0</td>\n",
       "      <td>1.739013</td>\n",
       "      <td>19.278368</td>\n",
       "      <td>6.366757</td>\n",
       "      <td>8.736572</td>\n",
       "      <td>5.485392</td>\n",
       "      <td>0.949897</td>\n",
       "      <td>1.599608</td>\n",
       "      <td>0.480465</td>\n",
       "      <td>...</td>\n",
       "      <td>24.500000</td>\n",
       "      <td>13.450000</td>\n",
       "      <td>12.800000</td>\n",
       "      <td>5.760000e+01</td>\n",
       "      <td>24.800000</td>\n",
       "      <td>11.300000</td>\n",
       "      <td>38833.500000</td>\n",
       "      <td>221.500000</td>\n",
       "      <td>51.300000</td>\n",
       "      <td>20.300000</td>\n",
       "    </tr>\n",
       "    <tr>\n",
       "      <td>75%</td>\n",
       "      <td>690600.000000</td>\n",
       "      <td>1.0</td>\n",
       "      <td>3.024307</td>\n",
       "      <td>33.308569</td>\n",
       "      <td>9.193587</td>\n",
       "      <td>15.362135</td>\n",
       "      <td>10.401991</td>\n",
       "      <td>2.027591</td>\n",
       "      <td>3.682204</td>\n",
       "      <td>0.845946</td>\n",
       "      <td>...</td>\n",
       "      <td>39.825000</td>\n",
       "      <td>18.225000</td>\n",
       "      <td>22.250000</td>\n",
       "      <td>7.440000e+01</td>\n",
       "      <td>34.725000</td>\n",
       "      <td>15.800000</td>\n",
       "      <td>51161.500000</td>\n",
       "      <td>344.000000</td>\n",
       "      <td>60.200000</td>\n",
       "      <td>26.275000</td>\n",
       "    </tr>\n",
       "    <tr>\n",
       "      <td>max</td>\n",
       "      <td>843900.000000</td>\n",
       "      <td>1.0</td>\n",
       "      <td>19.993752</td>\n",
       "      <td>135.211268</td>\n",
       "      <td>27.027027</td>\n",
       "      <td>45.286817</td>\n",
       "      <td>39.142591</td>\n",
       "      <td>13.888889</td>\n",
       "      <td>12.615643</td>\n",
       "      <td>4.205214</td>\n",
       "      <td>...</td>\n",
       "      <td>100.000000</td>\n",
       "      <td>46.200000</td>\n",
       "      <td>88.100000</td>\n",
       "      <td>1.000000e+02</td>\n",
       "      <td>66.900000</td>\n",
       "      <td>29.100000</td>\n",
       "      <td>155500.000000</td>\n",
       "      <td>1035.000000</td>\n",
       "      <td>85.400000</td>\n",
       "      <td>49.200000</td>\n",
       "    </tr>\n",
       "  </tbody>\n",
       "</table>\n",
       "<p>8 rows × 32 columns</p>\n",
       "</div>"
      ],
      "text/plain": [
       "               tract   risk  buss_licences  building_violations  \\\n",
       "count     292.000000  292.0     292.000000           292.000000   \n",
       "mean   501873.174658    1.0       2.437805            24.525884   \n",
       "std    242028.535914    0.0       2.343507            21.541208   \n",
       "min     20200.000000    1.0       0.000000             0.000000   \n",
       "25%    260875.000000    1.0       1.097194             9.276275   \n",
       "50%    530450.500000    1.0       1.739013            19.278368   \n",
       "75%    690600.000000    1.0       3.024307            33.308569   \n",
       "max    843900.000000    1.0      19.993752           135.211268   \n",
       "\n",
       "       vehicle_theft    burglary     robbery  public_peace_violation  \\\n",
       "count     292.000000  292.000000  292.000000              292.000000   \n",
       "mean        7.057847   11.093926    7.137655                1.602066   \n",
       "std         4.074309    7.547580    6.578916                1.988084   \n",
       "min         0.235239    0.667928    0.000000                0.000000   \n",
       "25%         4.136857    5.564113    2.019995                0.405455   \n",
       "50%         6.366757    8.736572    5.485392                0.949897   \n",
       "75%         9.193587   15.362135   10.401991                2.027591   \n",
       "max        27.027027   45.286817   39.142591               13.888889   \n",
       "\n",
       "       weapons_violation  sexual_assault  ...  S1501_C02_002E  S1501_C02_008E  \\\n",
       "count         292.000000      292.000000  ...      292.000000      292.000000   \n",
       "mean            2.387521        0.635347  ...       26.168836       13.644521   \n",
       "std             2.412354        0.672243  ...       20.494631        8.145477   \n",
       "min             0.000000        0.000000  ...        0.000000        0.000000   \n",
       "25%             0.429461        0.083491  ...       10.000000        7.975000   \n",
       "50%             1.599608        0.480465  ...       24.500000       13.450000   \n",
       "75%             3.682204        0.845946  ...       39.825000       18.225000   \n",
       "max            12.615643        4.205214  ...      100.000000       46.200000   \n",
       "\n",
       "       S1501_C02_015E  S1601_C02_003E  S1701_C03_001E  S1810_C03_001E  \\\n",
       "count      292.000000    2.920000e+02      292.000000      292.000000   \n",
       "mean        19.216781   -1.598168e+07       26.138014       12.198288   \n",
       "std         19.624522    1.021509e+08       14.089553        5.253227   \n",
       "min          0.000000   -6.666667e+08        0.400000        1.000000   \n",
       "25%          6.675000    4.747500e+01       15.000000        8.200000   \n",
       "50%         12.800000    5.760000e+01       24.800000       11.300000   \n",
       "75%         22.250000    7.440000e+01       34.725000       15.800000   \n",
       "max         88.100000    1.000000e+02       66.900000       29.100000   \n",
       "\n",
       "       S1901_C01_012E  S2201_C02_001E  S2301_C03_001E  S2701_C03_001E  \n",
       "count      292.000000      292.000000      292.000000      292.000000  \n",
       "mean     42590.938356      255.116438       51.417466       20.785959  \n",
       "std      20349.873809      169.067851       12.901400        8.784095  \n",
       "min      13927.000000        0.000000        5.500000        2.400000  \n",
       "25%      28880.750000      131.750000       41.875000       14.725000  \n",
       "50%      38833.500000      221.500000       51.300000       20.300000  \n",
       "75%      51161.500000      344.000000       60.200000       26.275000  \n",
       "max     155500.000000     1035.000000       85.400000       49.200000  \n",
       "\n",
       "[8 rows x 32 columns]"
      ]
     },
     "execution_count": 199,
     "metadata": {},
     "output_type": "execute_result"
    }
   ],
   "source": [
    "data_2014[data_2014['risk']==1].describe()"
   ]
  },
  {
   "cell_type": "code",
   "execution_count": 200,
   "metadata": {},
   "outputs": [
    {
     "data": {
      "text/html": [
       "<div>\n",
       "<style scoped>\n",
       "    .dataframe tbody tr th:only-of-type {\n",
       "        vertical-align: middle;\n",
       "    }\n",
       "\n",
       "    .dataframe tbody tr th {\n",
       "        vertical-align: top;\n",
       "    }\n",
       "\n",
       "    .dataframe thead th {\n",
       "        text-align: right;\n",
       "    }\n",
       "</style>\n",
       "<table border=\"1\" class=\"dataframe\">\n",
       "  <thead>\n",
       "    <tr style=\"text-align: right;\">\n",
       "      <th></th>\n",
       "      <th>tract</th>\n",
       "      <th>risk</th>\n",
       "      <th>buss_licences</th>\n",
       "      <th>building_violations</th>\n",
       "      <th>vehicle_theft</th>\n",
       "      <th>burglary</th>\n",
       "      <th>robbery</th>\n",
       "      <th>public_peace_violation</th>\n",
       "      <th>weapons_violation</th>\n",
       "      <th>sexual_assault</th>\n",
       "      <th>...</th>\n",
       "      <th>S1501_C02_002E</th>\n",
       "      <th>S1501_C02_008E</th>\n",
       "      <th>S1501_C02_015E</th>\n",
       "      <th>S1601_C02_003E</th>\n",
       "      <th>S1701_C03_001E</th>\n",
       "      <th>S1810_C03_001E</th>\n",
       "      <th>S1901_C01_012E</th>\n",
       "      <th>S2201_C02_001E</th>\n",
       "      <th>S2301_C03_001E</th>\n",
       "      <th>S2701_C03_001E</th>\n",
       "    </tr>\n",
       "  </thead>\n",
       "  <tbody>\n",
       "    <tr>\n",
       "      <td>count</td>\n",
       "      <td>506.000000</td>\n",
       "      <td>506.0</td>\n",
       "      <td>505.000000</td>\n",
       "      <td>505.000000</td>\n",
       "      <td>505.000000</td>\n",
       "      <td>505.000000</td>\n",
       "      <td>505.000000</td>\n",
       "      <td>505.000000</td>\n",
       "      <td>505.000000</td>\n",
       "      <td>505.000000</td>\n",
       "      <td>...</td>\n",
       "      <td>5.050000e+02</td>\n",
       "      <td>505.000000</td>\n",
       "      <td>505.000000</td>\n",
       "      <td>5.050000e+02</td>\n",
       "      <td>505.000000</td>\n",
       "      <td>505.000000</td>\n",
       "      <td>505.000000</td>\n",
       "      <td>505.000000</td>\n",
       "      <td>505.000000</td>\n",
       "      <td>505.000000</td>\n",
       "    </tr>\n",
       "    <tr>\n",
       "      <td>mean</td>\n",
       "      <td>347434.312253</td>\n",
       "      <td>0.0</td>\n",
       "      <td>3.635916</td>\n",
       "      <td>16.247768</td>\n",
       "      <td>6.104188</td>\n",
       "      <td>8.241411</td>\n",
       "      <td>5.142996</td>\n",
       "      <td>1.098189</td>\n",
       "      <td>1.293522</td>\n",
       "      <td>0.530960</td>\n",
       "      <td>...</td>\n",
       "      <td>-1.320113e+06</td>\n",
       "      <td>9.576238</td>\n",
       "      <td>36.489109</td>\n",
       "      <td>-6.600598e+06</td>\n",
       "      <td>22.040000</td>\n",
       "      <td>10.454455</td>\n",
       "      <td>51827.033663</td>\n",
       "      <td>202.603960</td>\n",
       "      <td>59.122574</td>\n",
       "      <td>18.407327</td>\n",
       "    </tr>\n",
       "    <tr>\n",
       "      <td>std</td>\n",
       "      <td>280342.219467</td>\n",
       "      <td>0.0</td>\n",
       "      <td>6.522688</td>\n",
       "      <td>15.833534</td>\n",
       "      <td>4.780148</td>\n",
       "      <td>5.879045</td>\n",
       "      <td>5.498188</td>\n",
       "      <td>1.593600</td>\n",
       "      <td>2.067385</td>\n",
       "      <td>0.691474</td>\n",
       "      <td>...</td>\n",
       "      <td>2.966628e+07</td>\n",
       "      <td>8.052087</td>\n",
       "      <td>27.352970</td>\n",
       "      <td>6.607206e+07</td>\n",
       "      <td>14.246401</td>\n",
       "      <td>5.545918</td>\n",
       "      <td>25342.527386</td>\n",
       "      <td>188.880152</td>\n",
       "      <td>14.368171</td>\n",
       "      <td>9.957354</td>\n",
       "    </tr>\n",
       "    <tr>\n",
       "      <td>min</td>\n",
       "      <td>10100.000000</td>\n",
       "      <td>0.0</td>\n",
       "      <td>0.000000</td>\n",
       "      <td>0.000000</td>\n",
       "      <td>0.000000</td>\n",
       "      <td>0.000000</td>\n",
       "      <td>0.000000</td>\n",
       "      <td>0.000000</td>\n",
       "      <td>0.000000</td>\n",
       "      <td>0.000000</td>\n",
       "      <td>...</td>\n",
       "      <td>-6.666667e+08</td>\n",
       "      <td>0.000000</td>\n",
       "      <td>0.000000</td>\n",
       "      <td>-6.666667e+08</td>\n",
       "      <td>0.400000</td>\n",
       "      <td>0.300000</td>\n",
       "      <td>9550.000000</td>\n",
       "      <td>0.000000</td>\n",
       "      <td>22.500000</td>\n",
       "      <td>0.700000</td>\n",
       "    </tr>\n",
       "    <tr>\n",
       "      <td>25%</td>\n",
       "      <td>81525.000000</td>\n",
       "      <td>0.0</td>\n",
       "      <td>1.051525</td>\n",
       "      <td>5.263158</td>\n",
       "      <td>2.859867</td>\n",
       "      <td>4.166667</td>\n",
       "      <td>1.498127</td>\n",
       "      <td>0.000000</td>\n",
       "      <td>0.000000</td>\n",
       "      <td>0.000000</td>\n",
       "      <td>...</td>\n",
       "      <td>0.000000e+00</td>\n",
       "      <td>3.000000</td>\n",
       "      <td>12.000000</td>\n",
       "      <td>4.840000e+01</td>\n",
       "      <td>10.900000</td>\n",
       "      <td>6.200000</td>\n",
       "      <td>32537.000000</td>\n",
       "      <td>59.000000</td>\n",
       "      <td>50.600000</td>\n",
       "      <td>10.700000</td>\n",
       "    </tr>\n",
       "    <tr>\n",
       "      <td>50%</td>\n",
       "      <td>251350.000000</td>\n",
       "      <td>0.0</td>\n",
       "      <td>2.196193</td>\n",
       "      <td>12.491560</td>\n",
       "      <td>4.964724</td>\n",
       "      <td>6.849315</td>\n",
       "      <td>3.184713</td>\n",
       "      <td>0.609756</td>\n",
       "      <td>0.490918</td>\n",
       "      <td>0.351370</td>\n",
       "      <td>...</td>\n",
       "      <td>1.330000e+01</td>\n",
       "      <td>7.800000</td>\n",
       "      <td>31.400000</td>\n",
       "      <td>6.080000e+01</td>\n",
       "      <td>19.500000</td>\n",
       "      <td>9.800000</td>\n",
       "      <td>46339.000000</td>\n",
       "      <td>159.000000</td>\n",
       "      <td>59.900000</td>\n",
       "      <td>17.600000</td>\n",
       "    </tr>\n",
       "    <tr>\n",
       "      <td>75%</td>\n",
       "      <td>597950.000000</td>\n",
       "      <td>0.0</td>\n",
       "      <td>3.616637</td>\n",
       "      <td>22.301064</td>\n",
       "      <td>8.000000</td>\n",
       "      <td>10.703712</td>\n",
       "      <td>6.983555</td>\n",
       "      <td>1.369113</td>\n",
       "      <td>1.636661</td>\n",
       "      <td>0.783699</td>\n",
       "      <td>...</td>\n",
       "      <td>3.120000e+01</td>\n",
       "      <td>14.300000</td>\n",
       "      <td>59.600000</td>\n",
       "      <td>7.590000e+01</td>\n",
       "      <td>30.300000</td>\n",
       "      <td>13.900000</td>\n",
       "      <td>66417.000000</td>\n",
       "      <td>289.000000</td>\n",
       "      <td>68.400000</td>\n",
       "      <td>25.000000</td>\n",
       "    </tr>\n",
       "    <tr>\n",
       "      <td>max</td>\n",
       "      <td>843000.000000</td>\n",
       "      <td>0.0</td>\n",
       "      <td>75.679172</td>\n",
       "      <td>105.555556</td>\n",
       "      <td>34.755134</td>\n",
       "      <td>38.888889</td>\n",
       "      <td>36.842105</td>\n",
       "      <td>16.355140</td>\n",
       "      <td>17.094017</td>\n",
       "      <td>4.739336</td>\n",
       "      <td>...</td>\n",
       "      <td>9.180000e+01</td>\n",
       "      <td>35.000000</td>\n",
       "      <td>95.500000</td>\n",
       "      <td>1.000000e+02</td>\n",
       "      <td>74.000000</td>\n",
       "      <td>36.000000</td>\n",
       "      <td>134018.000000</td>\n",
       "      <td>1012.000000</td>\n",
       "      <td>91.700000</td>\n",
       "      <td>52.100000</td>\n",
       "    </tr>\n",
       "  </tbody>\n",
       "</table>\n",
       "<p>8 rows × 32 columns</p>\n",
       "</div>"
      ],
      "text/plain": [
       "               tract   risk  buss_licences  building_violations  \\\n",
       "count     506.000000  506.0     505.000000           505.000000   \n",
       "mean   347434.312253    0.0       3.635916            16.247768   \n",
       "std    280342.219467    0.0       6.522688            15.833534   \n",
       "min     10100.000000    0.0       0.000000             0.000000   \n",
       "25%     81525.000000    0.0       1.051525             5.263158   \n",
       "50%    251350.000000    0.0       2.196193            12.491560   \n",
       "75%    597950.000000    0.0       3.616637            22.301064   \n",
       "max    843000.000000    0.0      75.679172           105.555556   \n",
       "\n",
       "       vehicle_theft    burglary     robbery  public_peace_violation  \\\n",
       "count     505.000000  505.000000  505.000000              505.000000   \n",
       "mean        6.104188    8.241411    5.142996                1.098189   \n",
       "std         4.780148    5.879045    5.498188                1.593600   \n",
       "min         0.000000    0.000000    0.000000                0.000000   \n",
       "25%         2.859867    4.166667    1.498127                0.000000   \n",
       "50%         4.964724    6.849315    3.184713                0.609756   \n",
       "75%         8.000000   10.703712    6.983555                1.369113   \n",
       "max        34.755134   38.888889   36.842105               16.355140   \n",
       "\n",
       "       weapons_violation  sexual_assault  ...  S1501_C02_002E  S1501_C02_008E  \\\n",
       "count         505.000000      505.000000  ...    5.050000e+02      505.000000   \n",
       "mean            1.293522        0.530960  ...   -1.320113e+06        9.576238   \n",
       "std             2.067385        0.691474  ...    2.966628e+07        8.052087   \n",
       "min             0.000000        0.000000  ...   -6.666667e+08        0.000000   \n",
       "25%             0.000000        0.000000  ...    0.000000e+00        3.000000   \n",
       "50%             0.490918        0.351370  ...    1.330000e+01        7.800000   \n",
       "75%             1.636661        0.783699  ...    3.120000e+01       14.300000   \n",
       "max            17.094017        4.739336  ...    9.180000e+01       35.000000   \n",
       "\n",
       "       S1501_C02_015E  S1601_C02_003E  S1701_C03_001E  S1810_C03_001E  \\\n",
       "count      505.000000    5.050000e+02      505.000000      505.000000   \n",
       "mean        36.489109   -6.600598e+06       22.040000       10.454455   \n",
       "std         27.352970    6.607206e+07       14.246401        5.545918   \n",
       "min          0.000000   -6.666667e+08        0.400000        0.300000   \n",
       "25%         12.000000    4.840000e+01       10.900000        6.200000   \n",
       "50%         31.400000    6.080000e+01       19.500000        9.800000   \n",
       "75%         59.600000    7.590000e+01       30.300000       13.900000   \n",
       "max         95.500000    1.000000e+02       74.000000       36.000000   \n",
       "\n",
       "       S1901_C01_012E  S2201_C02_001E  S2301_C03_001E  S2701_C03_001E  \n",
       "count      505.000000      505.000000      505.000000      505.000000  \n",
       "mean     51827.033663      202.603960       59.122574       18.407327  \n",
       "std      25342.527386      188.880152       14.368171        9.957354  \n",
       "min       9550.000000        0.000000       22.500000        0.700000  \n",
       "25%      32537.000000       59.000000       50.600000       10.700000  \n",
       "50%      46339.000000      159.000000       59.900000       17.600000  \n",
       "75%      66417.000000      289.000000       68.400000       25.000000  \n",
       "max     134018.000000     1012.000000       91.700000       52.100000  \n",
       "\n",
       "[8 rows x 32 columns]"
      ]
     },
     "execution_count": 200,
     "metadata": {},
     "output_type": "execute_result"
    }
   ],
   "source": [
    "data_2014[data_2014['risk']==0].describe()"
   ]
  },
  {
   "cell_type": "code",
   "execution_count": 201,
   "metadata": {},
   "outputs": [],
   "source": [
    "data_2014.drop('tract', axis=1, inplace=True)\n",
    "data_2015.drop('tract', axis=1, inplace=True)\n",
    "data_2016.drop('tract', axis=1, inplace=True)\n",
    "data_2017.drop('tract', axis=1, inplace=True)"
   ]
  },
  {
   "cell_type": "code",
   "execution_count": 202,
   "metadata": {},
   "outputs": [],
   "source": [
    "data_2014.to_csv('clean_data\\data_2014.csv')\n",
    "data_2015.to_csv('clean_data\\data_2015.csv')\n",
    "data_2016.to_csv('clean_data\\data_2016.csv')\n",
    "data_2017.to_csv('clean_data\\data_2017.csv')"
   ]
  },
  {
   "cell_type": "code",
   "execution_count": null,
   "metadata": {},
   "outputs": [],
   "source": []
  }
 ],
 "metadata": {
  "kernelspec": {
   "display_name": "Python 3",
   "language": "python",
   "name": "python3"
  },
  "language_info": {
   "codemirror_mode": {
    "name": "ipython",
    "version": 3
   },
   "file_extension": ".py",
   "mimetype": "text/x-python",
   "name": "python",
   "nbconvert_exporter": "python",
   "pygments_lexer": "ipython3",
   "version": "3.7.4"
  }
 },
 "nbformat": 4,
 "nbformat_minor": 2
}
