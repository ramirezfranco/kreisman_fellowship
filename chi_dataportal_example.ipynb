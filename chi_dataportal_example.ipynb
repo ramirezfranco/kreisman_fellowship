{
 "cells": [
  {
   "cell_type": "code",
   "execution_count": 3,
   "metadata": {},
   "outputs": [],
   "source": [
    "import pandas as pd\n",
    "import json\n",
    "from sodapy import Socrata\n",
    "import geopandas as gpd\n",
    "import util\n",
    "from shapely.geometry import Point\n",
    "import googlemaps\n",
    "import creds\n",
    "%reload_ext autoreload\n",
    "%autoreload 2"
   ]
  },
  {
   "cell_type": "markdown",
   "metadata": {},
   "source": [
    "## Building violations"
   ]
  },
  {
   "cell_type": "code",
   "execution_count": 26,
   "metadata": {},
   "outputs": [
    {
     "data": {
      "text/plain": [
       "302856"
      ]
     },
     "execution_count": 26,
     "metadata": {},
     "output_type": "execute_result"
    }
   ],
   "source": [
    "building_violations = util.get_data(\n",
    "    \"22u3-xenr\", \n",
    "    limit=1000000,\n",
    "    select=\"id, violation_date, longitude, latitude\",\n",
    "    where=\"inspection_category = 'COMPLAINT' AND inspection_status = 'FAILED' AND violation_date between '2012-01-01T00:00:00' and '2018-01-01T00:00:00'\"\n",
    ")\n",
    "len(building_violations)"
   ]
  },
  {
   "cell_type": "code",
   "execution_count": 28,
   "metadata": {},
   "outputs": [
    {
     "data": {
      "text/html": [
       "<div>\n",
       "<style scoped>\n",
       "    .dataframe tbody tr th:only-of-type {\n",
       "        vertical-align: middle;\n",
       "    }\n",
       "\n",
       "    .dataframe tbody tr th {\n",
       "        vertical-align: top;\n",
       "    }\n",
       "\n",
       "    .dataframe thead th {\n",
       "        text-align: right;\n",
       "    }\n",
       "</style>\n",
       "<table border=\"1\" class=\"dataframe\">\n",
       "  <thead>\n",
       "    <tr style=\"text-align: right;\">\n",
       "      <th></th>\n",
       "      <th>id</th>\n",
       "      <th>year</th>\n",
       "      <th>longitude</th>\n",
       "      <th>latitude</th>\n",
       "      <th>unique</th>\n",
       "    </tr>\n",
       "  </thead>\n",
       "  <tbody>\n",
       "    <tr>\n",
       "      <td>0</td>\n",
       "      <td>4061341</td>\n",
       "      <td>2012</td>\n",
       "      <td>-87.6145</td>\n",
       "      <td>41.777844</td>\n",
       "      <td>-87.614500017,41.7778441</td>\n",
       "    </tr>\n",
       "    <tr>\n",
       "      <td>1</td>\n",
       "      <td>4061342</td>\n",
       "      <td>2012</td>\n",
       "      <td>-87.6145</td>\n",
       "      <td>41.777844</td>\n",
       "      <td>-87.614500017,41.7778441</td>\n",
       "    </tr>\n",
       "    <tr>\n",
       "      <td>2</td>\n",
       "      <td>4061343</td>\n",
       "      <td>2012</td>\n",
       "      <td>-87.6145</td>\n",
       "      <td>41.777844</td>\n",
       "      <td>-87.614500017,41.7778441</td>\n",
       "    </tr>\n",
       "    <tr>\n",
       "      <td>3</td>\n",
       "      <td>4061344</td>\n",
       "      <td>2012</td>\n",
       "      <td>-87.6145</td>\n",
       "      <td>41.777844</td>\n",
       "      <td>-87.614500017,41.7778441</td>\n",
       "    </tr>\n",
       "    <tr>\n",
       "      <td>4</td>\n",
       "      <td>4061345</td>\n",
       "      <td>2012</td>\n",
       "      <td>-87.6145</td>\n",
       "      <td>41.777844</td>\n",
       "      <td>-87.614500017,41.7778441</td>\n",
       "    </tr>\n",
       "  </tbody>\n",
       "</table>\n",
       "</div>"
      ],
      "text/plain": [
       "        id  year  longitude   latitude                    unique\n",
       "0  4061341  2012   -87.6145  41.777844  -87.614500017,41.7778441\n",
       "1  4061342  2012   -87.6145  41.777844  -87.614500017,41.7778441\n",
       "2  4061343  2012   -87.6145  41.777844  -87.614500017,41.7778441\n",
       "3  4061344  2012   -87.6145  41.777844  -87.614500017,41.7778441\n",
       "4  4061345  2012   -87.6145  41.777844  -87.614500017,41.7778441"
      ]
     },
     "execution_count": 28,
     "metadata": {},
     "output_type": "execute_result"
    }
   ],
   "source": [
    "building_violations_list=[[r['id'], int(r['violation_date'][:4]), float(r['longitude']), float(r['latitude']), str(r['longitude'])+','+str(r['latitude'])]for i, r in building_violations.iterrows()]\n",
    "building_violations_df = pd.DataFrame(building_violations_list, columns=['id', 'year', 'longitude', 'latitude', 'unique'])\n",
    "building_violations_df.head()"
   ]
  },
  {
   "cell_type": "code",
   "execution_count": 29,
   "metadata": {},
   "outputs": [],
   "source": [
    "geo_building_violations = util.str2points(building_violations_df, 'longitude', 'latitude', 'geo_building_violations.shp')"
   ]
  },
  {
   "cell_type": "markdown",
   "metadata": {},
   "source": [
    "## Business licences"
   ]
  },
  {
   "cell_type": "code",
   "execution_count": 35,
   "metadata": {},
   "outputs": [
    {
     "data": {
      "text/plain": [
       "53054"
      ]
     },
     "execution_count": 35,
     "metadata": {},
     "output_type": "execute_result"
    }
   ],
   "source": [
    "buss_licences = util.get_data(\n",
    "    \"r5kz-chrr\", \n",
    "    limit=1000000,\n",
    "    select=\"id, application_created_date, longitude, latitude\",\n",
    "    where=\"application_created_date between '2012-01-01T00:00:00' and '2018-01-01T00:00:00'\"\n",
    ")\n",
    "len(buss_licences)\n"
   ]
  },
  {
   "cell_type": "code",
   "execution_count": 36,
   "metadata": {},
   "outputs": [
    {
     "data": {
      "text/html": [
       "<div>\n",
       "<style scoped>\n",
       "    .dataframe tbody tr th:only-of-type {\n",
       "        vertical-align: middle;\n",
       "    }\n",
       "\n",
       "    .dataframe tbody tr th {\n",
       "        vertical-align: top;\n",
       "    }\n",
       "\n",
       "    .dataframe thead th {\n",
       "        text-align: right;\n",
       "    }\n",
       "</style>\n",
       "<table border=\"1\" class=\"dataframe\">\n",
       "  <thead>\n",
       "    <tr style=\"text-align: right;\">\n",
       "      <th></th>\n",
       "      <th>id</th>\n",
       "      <th>application_created_date</th>\n",
       "      <th>longitude</th>\n",
       "      <th>latitude</th>\n",
       "    </tr>\n",
       "  </thead>\n",
       "  <tbody>\n",
       "    <tr>\n",
       "      <td>0</td>\n",
       "      <td>2134198-20120105</td>\n",
       "      <td>2012-01-03T00:00:00.000</td>\n",
       "      <td>-87.626957995</td>\n",
       "      <td>41.853827231</td>\n",
       "    </tr>\n",
       "    <tr>\n",
       "      <td>1</td>\n",
       "      <td>2134196-20120821</td>\n",
       "      <td>2012-01-03T00:00:00.000</td>\n",
       "      <td>-87.838385258</td>\n",
       "      <td>41.966453173</td>\n",
       "    </tr>\n",
       "    <tr>\n",
       "      <td>2</td>\n",
       "      <td>2134210-20120104</td>\n",
       "      <td>2012-01-03T00:00:00.000</td>\n",
       "      <td>-87.626642244</td>\n",
       "      <td>41.87961637</td>\n",
       "    </tr>\n",
       "    <tr>\n",
       "      <td>3</td>\n",
       "      <td>2134211-20120316</td>\n",
       "      <td>2012-01-03T00:00:00.000</td>\n",
       "      <td>-87.736971788</td>\n",
       "      <td>41.9738742</td>\n",
       "    </tr>\n",
       "    <tr>\n",
       "      <td>4</td>\n",
       "      <td>2134157-20120103</td>\n",
       "      <td>2012-01-03T00:00:00.000</td>\n",
       "      <td>-87.747402307</td>\n",
       "      <td>41.931414051</td>\n",
       "    </tr>\n",
       "  </tbody>\n",
       "</table>\n",
       "</div>"
      ],
      "text/plain": [
       "                 id application_created_date      longitude      latitude\n",
       "0  2134198-20120105  2012-01-03T00:00:00.000  -87.626957995  41.853827231\n",
       "1  2134196-20120821  2012-01-03T00:00:00.000  -87.838385258  41.966453173\n",
       "2  2134210-20120104  2012-01-03T00:00:00.000  -87.626642244   41.87961637\n",
       "3  2134211-20120316  2012-01-03T00:00:00.000  -87.736971788    41.9738742\n",
       "4  2134157-20120103  2012-01-03T00:00:00.000  -87.747402307  41.931414051"
      ]
     },
     "execution_count": 36,
     "metadata": {},
     "output_type": "execute_result"
    }
   ],
   "source": [
    "buss_licences.head()"
   ]
  },
  {
   "cell_type": "code",
   "execution_count": 37,
   "metadata": {},
   "outputs": [
    {
     "data": {
      "text/html": [
       "<div>\n",
       "<style scoped>\n",
       "    .dataframe tbody tr th:only-of-type {\n",
       "        vertical-align: middle;\n",
       "    }\n",
       "\n",
       "    .dataframe tbody tr th {\n",
       "        vertical-align: top;\n",
       "    }\n",
       "\n",
       "    .dataframe thead th {\n",
       "        text-align: right;\n",
       "    }\n",
       "</style>\n",
       "<table border=\"1\" class=\"dataframe\">\n",
       "  <thead>\n",
       "    <tr style=\"text-align: right;\">\n",
       "      <th></th>\n",
       "      <th>id</th>\n",
       "      <th>year</th>\n",
       "      <th>longitude</th>\n",
       "      <th>latitude</th>\n",
       "      <th>unique</th>\n",
       "    </tr>\n",
       "  </thead>\n",
       "  <tbody>\n",
       "    <tr>\n",
       "      <td>0</td>\n",
       "      <td>2134198-20120105</td>\n",
       "      <td>2012</td>\n",
       "      <td>-87.626958</td>\n",
       "      <td>41.853827</td>\n",
       "      <td>-87.626957995,41.853827231</td>\n",
       "    </tr>\n",
       "    <tr>\n",
       "      <td>1</td>\n",
       "      <td>2134196-20120821</td>\n",
       "      <td>2012</td>\n",
       "      <td>-87.838385</td>\n",
       "      <td>41.966453</td>\n",
       "      <td>-87.838385258,41.966453173</td>\n",
       "    </tr>\n",
       "    <tr>\n",
       "      <td>2</td>\n",
       "      <td>2134210-20120104</td>\n",
       "      <td>2012</td>\n",
       "      <td>-87.626642</td>\n",
       "      <td>41.879616</td>\n",
       "      <td>-87.626642244,41.87961637</td>\n",
       "    </tr>\n",
       "    <tr>\n",
       "      <td>3</td>\n",
       "      <td>2134211-20120316</td>\n",
       "      <td>2012</td>\n",
       "      <td>-87.736972</td>\n",
       "      <td>41.973874</td>\n",
       "      <td>-87.736971788,41.9738742</td>\n",
       "    </tr>\n",
       "    <tr>\n",
       "      <td>4</td>\n",
       "      <td>2134157-20120103</td>\n",
       "      <td>2012</td>\n",
       "      <td>-87.747402</td>\n",
       "      <td>41.931414</td>\n",
       "      <td>-87.747402307,41.931414051</td>\n",
       "    </tr>\n",
       "  </tbody>\n",
       "</table>\n",
       "</div>"
      ],
      "text/plain": [
       "                 id  year  longitude   latitude                      unique\n",
       "0  2134198-20120105  2012 -87.626958  41.853827  -87.626957995,41.853827231\n",
       "1  2134196-20120821  2012 -87.838385  41.966453  -87.838385258,41.966453173\n",
       "2  2134210-20120104  2012 -87.626642  41.879616   -87.626642244,41.87961637\n",
       "3  2134211-20120316  2012 -87.736972  41.973874    -87.736971788,41.9738742\n",
       "4  2134157-20120103  2012 -87.747402  41.931414  -87.747402307,41.931414051"
      ]
     },
     "execution_count": 37,
     "metadata": {},
     "output_type": "execute_result"
    }
   ],
   "source": [
    "buss_licences_list=[[r['id'], int(r['application_created_date'][:4]), float(r['longitude']), float(r['latitude']), str(r['longitude'])+','+str(r['latitude'])]for i, r in buss_licences.iterrows()]\n",
    "buss_licences_df = pd.DataFrame(buss_licences_list, columns=['id', 'year', 'longitude', 'latitude', 'unique'])\n",
    "buss_licences_df.head()"
   ]
  },
  {
   "cell_type": "code",
   "execution_count": 38,
   "metadata": {},
   "outputs": [],
   "source": [
    "geo_buss_licences = util.str2points(buss_licences_df, 'longitude', 'latitude', 'geo_buss_licences.shp')"
   ]
  },
  {
   "cell_type": "code",
   "execution_count": null,
   "metadata": {},
   "outputs": [],
   "source": []
  }
 ],
 "metadata": {
  "kernelspec": {
   "display_name": "Python 3",
   "language": "python",
   "name": "python3"
  },
  "language_info": {
   "codemirror_mode": {
    "name": "ipython",
    "version": 3
   },
   "file_extension": ".py",
   "mimetype": "text/x-python",
   "name": "python",
   "nbconvert_exporter": "python",
   "pygments_lexer": "ipython3",
   "version": "3.7.4"
  }
 },
 "nbformat": 4,
 "nbformat_minor": 2
}
