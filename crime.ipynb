{
 "cells": [
  {
   "cell_type": "code",
   "execution_count": 42,
   "metadata": {},
   "outputs": [],
   "source": [
    "import pandas as pd\n",
    "import json\n",
    "from sodapy import Socrata\n",
    "import geopandas as gpd\n",
    "import util\n",
    "from shapely.geometry import Point\n",
    "#import googlemaps\n",
    "import creds\n",
    "%reload_ext autoreload\n",
    "%autoreload 2"
   ]
  },
  {
   "cell_type": "code",
   "execution_count": 111,
   "metadata": {},
   "outputs": [
    {
     "name": "stderr",
     "output_type": "stream",
     "text": [
      "WARNING:root:Requests made without an app_token will be subject to strict throttling limits.\n"
     ]
    },
    {
     "data": {
      "text/plain": [
       "3754"
      ]
     },
     "execution_count": 111,
     "metadata": {},
     "output_type": "execute_result"
    }
   ],
   "source": [
    "homicides = get_data('ijzp-q8t2', limit=1000000,select=\"id, date, year, latitude, longitude\", where=\"iucr in ('0110', '0130') AND year between 2011 and 2017\")\n",
    "len(homicides)"
   ]
  },
  {
   "cell_type": "code",
   "execution_count": 142,
   "metadata": {},
   "outputs": [],
   "source": [
    "homicides_list = [[r['id'], r['date'], int(r['year']),float(r['longitude']), float(r['latitude']), str(r['longitude'])+','+str(r['latitude'])] for i, r in homicides.iterrows()]\n",
    "homicides_df = pd.DataFrame(homicides_list, columns = ['id', 'date', 'year', 'longitude', 'latitude', 'unique'])\n",
    "geo_homicides = util.str2points(homicides_df, 'longitude', 'latitude', 'geo_homicides.shp')"
   ]
  },
  {
   "cell_type": "code",
   "execution_count": 110,
   "metadata": {},
   "outputs": [
    {
     "name": "stderr",
     "output_type": "stream",
     "text": [
      "WARNING:root:Requests made without an app_token will be subject to strict throttling limits.\n"
     ]
    },
    {
     "data": {
      "text/plain": [
       "10095"
      ]
     },
     "execution_count": 110,
     "metadata": {},
     "output_type": "execute_result"
    }
   ],
   "source": [
    "sexual_assault = get_data(\n",
    "    'ijzp-q8t2', \n",
    "    limit=1000000,\n",
    "    select=\"id, date, year, latitude, longitude\", \n",
    "    where=\"iucr in ('0261', '0262', '0263', '0263', '0265', '0266', '0271', '0272', '0273', '0274', '0275', '0281', '0291') AND year between 2011 and 2017\"\n",
    ")\n",
    "len(sexual_assault)"
   ]
  },
  {
   "cell_type": "code",
   "execution_count": 143,
   "metadata": {},
   "outputs": [],
   "source": [
    "sexual_assault_list = [[r['id'], r['date'], int(r['year']),float(r['longitude']), float(r['latitude']), str(r['longitude'])+','+str(r['latitude'])] for i, r in sexual_assault.iterrows()]\n",
    "sexual_assault_df = pd.DataFrame(sexual_assault_list, columns = ['id', 'date', 'year', 'longitude', 'latitude', 'unique'])\n",
    "geo_sexual_assault = util.str2points(sexual_assault_df, 'longitude', 'latitude', 'geo_sexual_assault.shp')"
   ]
  },
  {
   "cell_type": "code",
   "execution_count": 112,
   "metadata": {},
   "outputs": [
    {
     "name": "stderr",
     "output_type": "stream",
     "text": [
      "WARNING:root:Requests made without an app_token will be subject to strict throttling limits.\n"
     ]
    },
    {
     "data": {
      "text/plain": [
       "82564"
      ]
     },
     "execution_count": 112,
     "metadata": {},
     "output_type": "execute_result"
    }
   ],
   "source": [
    "robbery = get_data(\n",
    "    'ijzp-q8t2', \n",
    "    limit=1000000,\n",
    "    select=\"id, date, year, latitude, longitude\", \n",
    "    where=\"iucr in ('0312', '0313', '031A', '031B', '0320', '0325', '0326', '0330', '0331', '0334', '0337', '033A', '033B', '0340') AND year between 2011 and 2017\"\n",
    ")\n",
    "len(robbery)"
   ]
  },
  {
   "cell_type": "code",
   "execution_count": 144,
   "metadata": {},
   "outputs": [],
   "source": [
    "robbery.dropna(axis=0)\n",
    "robbery_list = [[r['id'], r['date'], int(r['year']),float(r['longitude']), float(r['latitude']), str(r['longitude'])+','+str(r['latitude'])] for i, r in robbery.iterrows()]\n",
    "robbery_df = pd.DataFrame(robbery_list, columns = ['id', 'date', 'year', 'longitude', 'latitude', 'unique'])\n",
    "geo_robbery = util.str2points(robbery_df, 'longitude', 'latitude', 'geo_robbery.shp')"
   ]
  },
  {
   "cell_type": "code",
   "execution_count": 113,
   "metadata": {},
   "outputs": [
    {
     "name": "stderr",
     "output_type": "stream",
     "text": [
      "WARNING:root:Requests made without an app_token will be subject to strict throttling limits.\n"
     ]
    },
    {
     "data": {
      "text/plain": [
       "122396"
      ]
     },
     "execution_count": 113,
     "metadata": {},
     "output_type": "execute_result"
    }
   ],
   "source": [
    "burglary = get_data(\n",
    "    'ijzp-q8t2', \n",
    "    limit=1000000,\n",
    "    select=\"id, date, year, latitude, longitude\", \n",
    "    where=\"iucr in ('0610', '0620', '0630', '0650') AND year between 2011 and 2017\"\n",
    ")\n",
    "len(burglary)"
   ]
  },
  {
   "cell_type": "code",
   "execution_count": 145,
   "metadata": {},
   "outputs": [],
   "source": [
    "burglary_list = [[r['id'], r['date'], int(r['year']),float(r['longitude']), float(r['latitude']), str(r['longitude'])+','+str(r['latitude'])] for i, r in burglary.iterrows()]\n",
    "burglary_df = pd.DataFrame(burglary_list, columns = ['id', 'date', 'year', 'longitude', 'latitude', 'unique'])\n",
    "geo_burglary = util.str2points(burglary_df, 'longitude', 'latitude', 'geo_burglary.shp')"
   ]
  },
  {
   "cell_type": "code",
   "execution_count": 114,
   "metadata": {},
   "outputs": [
    {
     "name": "stderr",
     "output_type": "stream",
     "text": [
      "WARNING:root:Requests made without an app_token will be subject to strict throttling limits.\n"
     ]
    },
    {
     "data": {
      "text/plain": [
       "85706"
      ]
     },
     "execution_count": 114,
     "metadata": {},
     "output_type": "execute_result"
    }
   ],
   "source": [
    "vehicle_theft = get_data(\n",
    "    'ijzp-q8t2', \n",
    "    limit=1000000,\n",
    "    select=\"id, date, year, latitude, longitude\", \n",
    "    where=\"iucr in ('0910', '0915', '0917', '0918', '0920', '0925', '0927', '0928') AND year between 2011 and 2017\"\n",
    ")\n",
    "len(vehicle_theft)"
   ]
  },
  {
   "cell_type": "code",
   "execution_count": 147,
   "metadata": {},
   "outputs": [],
   "source": [
    "vehicle_theft_list = [[r['id'], r['date'], int(r['year']),float(r['longitude']), float(r['latitude']), str(r['longitude'])+','+str(r['latitude'])] for i, r in vehicle_theft.iterrows()]\n",
    "vehicle_theft_df = pd.DataFrame(vehicle_theft_list, columns = ['id', 'date', 'year', 'longitude', 'latitude', 'unique'])\n",
    "geo_vehicle_theft = util.str2points(vehicle_theft_df, 'longitude', 'latitude', 'geo_vehicle_theft.shp')"
   ]
  },
  {
   "cell_type": "code",
   "execution_count": 117,
   "metadata": {},
   "outputs": [
    {
     "name": "stderr",
     "output_type": "stream",
     "text": [
      "WARNING:root:Requests made without an app_token will be subject to strict throttling limits.\n"
     ]
    },
    {
     "data": {
      "text/plain": [
       "25647"
      ]
     },
     "execution_count": 117,
     "metadata": {},
     "output_type": "execute_result"
    }
   ],
   "source": [
    "weapons_violation = get_data(\n",
    "    'ijzp-q8t2', \n",
    "    limit=1000000,\n",
    "    select=\"id, date, year, latitude, longitude\", \n",
    "    where=\"iucr in ('141A','141B','141C','142A','142B','1435','143A','143B','143C','1440','1450','1460','1475','1476','1477','2900') AND year between 2011 and 2017\"\n",
    ")\n",
    "len(weapons_violation)"
   ]
  },
  {
   "cell_type": "code",
   "execution_count": 148,
   "metadata": {},
   "outputs": [],
   "source": [
    "weapons_violation_list = [[r['id'], r['date'], int(r['year']),float(r['longitude']), float(r['latitude']), str(r['longitude'])+','+str(r['latitude'])] for i, r in weapons_violation.iterrows()]\n",
    "weapons_violation_df = pd.DataFrame(weapons_violation_list, columns = ['id', 'date', 'year', 'longitude', 'latitude', 'unique'])\n",
    "geo_weapons_violation = util.str2points(weapons_violation_df, 'longitude', 'latitude', 'geo_weapons_violation.shp')"
   ]
  },
  {
   "cell_type": "code",
   "execution_count": 120,
   "metadata": {},
   "outputs": [
    {
     "name": "stderr",
     "output_type": "stream",
     "text": [
      "WARNING:root:Requests made without an app_token will be subject to strict throttling limits.\n"
     ]
    },
    {
     "data": {
      "text/plain": [
       "17667"
      ]
     },
     "execution_count": 120,
     "metadata": {},
     "output_type": "execute_result"
    }
   ],
   "source": [
    "public_peace_violation = get_data(\n",
    "    'ijzp-q8t2', \n",
    "    limit=1000000,\n",
    "    select=\"id, date, year, latitude, longitude\", \n",
    "    where=\"iucr in ('0470','2840','2850','2851','2860','2870','2890','2895','3000','3100','3200','3300','3400') AND year between 2011 and 2017\"\n",
    ")\n",
    "len(public_peace_violation)"
   ]
  },
  {
   "cell_type": "code",
   "execution_count": 149,
   "metadata": {},
   "outputs": [],
   "source": [
    "public_peace_violation_list = [[r['id'], r['date'], int(r['year']),float(r['longitude']), float(r['latitude']), str(r['longitude'])+','+str(r['latitude'])] for i, r in public_peace_violation.iterrows()]\n",
    "public_peace_violation_df = pd.DataFrame(public_peace_violation_list, columns = ['id', 'date', 'year', 'longitude', 'latitude', 'unique'])\n",
    "geo_public_peace_violation = util.str2points(public_peace_violation_df, 'longitude', 'latitude', 'geo_public_peace_violation.shp')"
   ]
  },
  {
   "cell_type": "code",
   "execution_count": 159,
   "metadata": {},
   "outputs": [
    {
     "data": {
      "text/plain": [
       "array(['nan,nan', '-87.710988877,41.778844906',\n",
       "       '-87.645803076,41.715883887', ..., '-87.645544129,41.736044833',\n",
       "       '-87.620200454,41.768885085', '-87.563901121,41.756696665'],\n",
       "      dtype=object)"
      ]
     },
     "execution_count": 159,
     "metadata": {},
     "output_type": "execute_result"
    }
   ],
   "source": [
    "geo_weapons_violation.unique.unique()"
   ]
  },
  {
   "cell_type": "code",
   "execution_count": null,
   "metadata": {},
   "outputs": [],
   "source": []
  }
 ],
 "metadata": {
  "kernelspec": {
   "display_name": "Python 3",
   "language": "python",
   "name": "python3"
  },
  "language_info": {
   "codemirror_mode": {
    "name": "ipython",
    "version": 3
   },
   "file_extension": ".py",
   "mimetype": "text/x-python",
   "name": "python",
   "nbconvert_exporter": "python",
   "pygments_lexer": "ipython3",
   "version": "3.7.4"
  }
 },
 "nbformat": 4,
 "nbformat_minor": 2
}
